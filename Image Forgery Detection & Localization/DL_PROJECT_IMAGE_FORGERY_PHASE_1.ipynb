{
  "nbformat": 4,
  "nbformat_minor": 0,
  "metadata": {
    "colab": {
      "name": "DL-PROJECT-IMAGE FORGERY-PHASE-1.ipynb",
      "provenance": [],
      "collapsed_sections": [],
      "machine_shape": "hm"
    },
    "kernelspec": {
      "name": "python3",
      "display_name": "Python 3"
    },
    "accelerator": "GPU"
  },
  "cells": [
    {
      "cell_type": "markdown",
      "metadata": {
        "id": "0b4j4XbeJ_hE",
        "colab_type": "text"
      },
      "source": [
        "# **IMPORTING REQUIRED MODULES**"
      ]
    },
    {
      "cell_type": "code",
      "metadata": {
        "id": "UIsykbwUI2ox",
        "colab_type": "code",
        "colab": {}
      },
      "source": [
        "import warnings\n",
        "warnings.filterwarnings('ignore')\n",
        "import matplotlib.pyplot as plt\n",
        "import numpy as np\n",
        "import os\n",
        "import sys, os.path\n",
        "import glob\n",
        "import pickle\n",
        "from tqdm import tqdm\n",
        "from PIL import Image, ImageChops, ImageEnhance\n",
        "import pandas as pd\n",
        "import cv2\n",
        "import skimage.io as io\n",
        "from skimage.transform import rotate\n",
        "import keras\n",
        "from keras.preprocessing import image\n",
        "from keras.preprocessing.image import load_img\n",
        "from keras.models import Sequential\n",
        "from keras.layers import Dense, Dropout,Conv2D,MaxPooling2D,Flatten,Dense,UpSampling2D\n",
        "from keras.layers.normalization import BatchNormalization\n",
        "from keras.initializers import he_normal\n",
        "from keras.models import load_model\n",
        "from sklearn import metrics\n",
        "from sklearn.metrics import confusion_matrix\n",
        "from sklearn.model_selection import train_test_split\n",
        "from keras.applications.resnet import ResNet50,ResNet101\n",
        "from keras.applications.vgg16 import VGG16\n",
        "from keras.applications.vgg19 import VGG19\n",
        "from keras.preprocessing.image import ImageDataGenerator"
      ],
      "execution_count": 0,
      "outputs": []
    },
    {
      "cell_type": "code",
      "metadata": {
        "id": "68igd2v51Cih",
        "colab_type": "code",
        "outputId": "30623f57-a8fe-43bb-dc35-5a897c3f8660",
        "colab": {
          "base_uri": "https://localhost:8080/",
          "height": 168
        }
      },
      "source": [
        "pip install keras_metrics"
      ],
      "execution_count": 0,
      "outputs": [
        {
          "output_type": "stream",
          "text": [
            "Requirement already satisfied: keras_metrics in /usr/local/lib/python3.6/dist-packages (1.1.0)\n",
            "Requirement already satisfied: Keras>=2.1.5 in /usr/local/lib/python3.6/dist-packages (from keras_metrics) (2.2.5)\n",
            "Requirement already satisfied: keras-applications>=1.0.8 in /usr/local/lib/python3.6/dist-packages (from Keras>=2.1.5->keras_metrics) (1.0.8)\n",
            "Requirement already satisfied: h5py in /usr/local/lib/python3.6/dist-packages (from Keras>=2.1.5->keras_metrics) (2.8.0)\n",
            "Requirement already satisfied: pyyaml in /usr/local/lib/python3.6/dist-packages (from Keras>=2.1.5->keras_metrics) (3.13)\n",
            "Requirement already satisfied: scipy>=0.14 in /usr/local/lib/python3.6/dist-packages (from Keras>=2.1.5->keras_metrics) (1.4.1)\n",
            "Requirement already satisfied: numpy>=1.9.1 in /usr/local/lib/python3.6/dist-packages (from Keras>=2.1.5->keras_metrics) (1.17.5)\n",
            "Requirement already satisfied: keras-preprocessing>=1.1.0 in /usr/local/lib/python3.6/dist-packages (from Keras>=2.1.5->keras_metrics) (1.1.0)\n",
            "Requirement already satisfied: six>=1.9.0 in /usr/local/lib/python3.6/dist-packages (from Keras>=2.1.5->keras_metrics) (1.12.0)\n"
          ],
          "name": "stdout"
        }
      ]
    },
    {
      "cell_type": "markdown",
      "metadata": {
        "id": "DUejHc3yuM-d",
        "colab_type": "text"
      },
      "source": [
        "# **UNZIPPING DATA**"
      ]
    },
    {
      "cell_type": "code",
      "metadata": {
        "id": "X6VP12f4s07I",
        "colab_type": "code",
        "colab": {}
      },
      "source": [
        "#!unzip \"/content/drive/My Drive/\"PROJECT.zip -d \"/content/drive/My Drive/\"DL_PROJECT"
      ],
      "execution_count": 0,
      "outputs": []
    },
    {
      "cell_type": "markdown",
      "metadata": {
        "id": "_L98U2DesSzg",
        "colab_type": "text"
      },
      "source": [
        "# **IMAGE PRE-PROCESSING**"
      ]
    },
    {
      "cell_type": "markdown",
      "metadata": {
        "id": "QK3AXW2Uz5Lu",
        "colab_type": "text"
      },
      "source": [
        "### **PERFORMING ERROR LEVEL ANALYSIS** "
      ]
    },
    {
      "cell_type": "code",
      "metadata": {
        "id": "MLtLZyInKWgB",
        "colab_type": "code",
        "colab": {}
      },
      "source": [
        "def ELA(path,path2,path3):\n",
        "  #ref:https://gist.github.com/ewencp/3356622\n",
        "  count=0\n",
        "  for im in tqdm(glob.glob(path+'/*.*'),leave=True,position=0):\n",
        "    if \"mask\" not in im:\n",
        "      count=count+1\n",
        "      head,tail = os.path.split(im)\n",
        "      resaved = tail+'.resaved.jpg'\n",
        "      ela = tail+'.ela.png'\n",
        "      im = Image.open(im)\n",
        "      try:\n",
        "        im.save(path3+\"/\"+resaved,'JPEG',quality=96)\n",
        "      except:\n",
        "        im = im.convert('RGB')\n",
        "        im.save(path3+\"/\"+resaved,'JPEG',quality=96)\n",
        "      resaved_im = Image.open(path3+\"/\"+resaved)\n",
        "      ela_im = ImageChops.difference(im,resaved_im)\n",
        "      extrema = ela_im.getextrema()\n",
        "      max_diff = max([ex[1] for ex in extrema])\n",
        "      scale = 255.0/max_diff\n",
        "      ela_im = ImageEnhance.Brightness(ela_im).enhance(scale)\n",
        "      ela_im.save(path2+\"/\"+ela)\n",
        "  print(\"\\n\\nPERFORMED ELA ON \"+str(count)+\" IMAGES\")"
      ],
      "execution_count": 0,
      "outputs": []
    },
    {
      "cell_type": "markdown",
      "metadata": {
        "id": "1DbYjJ8Wxdpo",
        "colab_type": "text"
      },
      "source": [
        "##### **FUNCTION CALL FOR PERFORMING ELA FOR FAKE IMAGES**"
      ]
    },
    {
      "cell_type": "code",
      "metadata": {
        "id": "tsdPLeFCyfyU",
        "colab_type": "code",
        "outputId": "06388831-f7bf-4dae-b7b6-813f3668b064",
        "colab": {
          "base_uri": "https://localhost:8080/",
          "height": 84
        }
      },
      "source": [
        "ELA(\"/content/drive/My Drive/DL_PROJECT/PROJECT/DL_PROJECT_DATA/fake\",\"/content/drive/My Drive/DL_PROJECT/PROJECT/DL_PROJECT_DATA/fake_ELA\",\"/content/drive/My Drive/DL_PROJECT/PROJECT/DL_PROJECT_DATA/fake_lowquality_JPG\")"
      ],
      "execution_count": 0,
      "outputs": [
        {
          "output_type": "stream",
          "text": [
            "100%|██████████| 900/900 [15:18<00:00,  1.63s/it]"
          ],
          "name": "stderr"
        },
        {
          "output_type": "stream",
          "text": [
            "\n",
            "\n",
            "PERFORMED ELA ON 450 IMAGES\n"
          ],
          "name": "stdout"
        },
        {
          "output_type": "stream",
          "text": [
            "\n"
          ],
          "name": "stderr"
        }
      ]
    },
    {
      "cell_type": "markdown",
      "metadata": {
        "id": "PrGN2TNrxqYc",
        "colab_type": "text"
      },
      "source": [
        "##### **FUNCTION CALL FOR PERFORMING ELA FOR REAL IMAGES**"
      ]
    },
    {
      "cell_type": "code",
      "metadata": {
        "id": "OjlqQa8i2Fvu",
        "colab_type": "code",
        "outputId": "27c209cf-534e-4ee9-b0a4-9de46f384d8d",
        "colab": {
          "base_uri": "https://localhost:8080/",
          "height": 84
        }
      },
      "source": [
        "ELA(\"/content/drive/My Drive/DL_PROJECT/PROJECT/DL_PROJECT_DATA/pristine\",\"/content/drive/My Drive/DL_PROJECT/PROJECT/DL_PROJECT_DATA/pristine_ELA\",\"/content/drive/My Drive/DL_PROJECT/PROJECT/DL_PROJECT_DATA/pristine_lowquality_JPG\")"
      ],
      "execution_count": 0,
      "outputs": [
        {
          "output_type": "stream",
          "text": [
            "100%|██████████| 1050/1050 [11:30<00:00,  1.47it/s]"
          ],
          "name": "stderr"
        },
        {
          "output_type": "stream",
          "text": [
            "\n",
            "\n",
            "PERFORMED ELA ON 1050 IMAGES\n"
          ],
          "name": "stdout"
        },
        {
          "output_type": "stream",
          "text": [
            "\n"
          ],
          "name": "stderr"
        }
      ]
    },
    {
      "cell_type": "markdown",
      "metadata": {
        "id": "fJvqz0Y2DaYJ",
        "colab_type": "text"
      },
      "source": [
        "### **APPLYING OTHER PRE-PROCESSING TECHNIQUES (RE-SIZING,CHANNEL CONVERSION, NORMALIZATION) ON ELA PERFORMED IMAGES**"
      ]
    },
    {
      "cell_type": "code",
      "metadata": {
        "id": "JJKu5RwRDBSs",
        "colab_type": "code",
        "colab": {}
      },
      "source": [
        "def image_preproc(path,class_label,count):\n",
        "    img_data=pd.DataFrame(columns=[\"image\",\"class\"])\n",
        "    proc=0\n",
        "    for im in tqdm(glob.glob(path+'/*.*'),leave=True,position=0):\n",
        "      proc+=1\n",
        "      im = load_img(im)\n",
        "      conv_img = image.img_to_array(im,data_format=\"channels_last\"); #keeping the color-channel at the end in the representation of image vector \n",
        "      conv_img = cv2.resize(conv_img,(512,512)) ##resizing the image into the dimensions of 512x512\n",
        "      try:\n",
        "          conv_img= conv_img[:, :, :3] ## making all the channels to RGB if any another channel with !=3 magnitude is present\n",
        "      except:\n",
        "          conv_img= cv2.cvtColor(conv_img,cv2.COLOR_GRAY2RGB) #converting the grey scale images into RGB which have no channel value\n",
        "      conv_img = conv_img/255 # performing the min-max normalization\n",
        "      img_data.loc[count]=[conv_img,class_label]\n",
        "      count=count+1\n",
        "    print(\"\\n\\nPRE-PROCESSING PERFORMED ON \"+str(proc)+\" IMAGES\")\n",
        "    return img_data"
      ],
      "execution_count": 0,
      "outputs": []
    },
    {
      "cell_type": "markdown",
      "metadata": {
        "id": "OBfrjZ3uUldO",
        "colab_type": "text"
      },
      "source": [
        "##### **FUNCTION CALL FOR PERFORMING PRE-PROCESSING ON PRISTINE IMAGES**"
      ]
    },
    {
      "cell_type": "code",
      "metadata": {
        "id": "JQuzU5r5DBP2",
        "colab_type": "code",
        "outputId": "9ac84167-f2eb-49bc-fb4c-5ce934d565e2",
        "colab": {
          "base_uri": "https://localhost:8080/",
          "height": 84
        }
      },
      "source": [
        "original = image_preproc(\"/content/drive/My Drive/DL_PROJECT/PROJECT/DL_PROJECT_DATA/pristine_ELA\",0,0)"
      ],
      "execution_count": 0,
      "outputs": [
        {
          "output_type": "stream",
          "text": [
            "100%|██████████| 1050/1050 [17:38<00:00,  1.09it/s]"
          ],
          "name": "stderr"
        },
        {
          "output_type": "stream",
          "text": [
            "\n",
            "\n",
            "PRE-PROCESSING PERFORMED ON 1050 IMAGES\n"
          ],
          "name": "stdout"
        },
        {
          "output_type": "stream",
          "text": [
            "\n"
          ],
          "name": "stderr"
        }
      ]
    },
    {
      "cell_type": "markdown",
      "metadata": {
        "id": "QjfqELgoU1D6",
        "colab_type": "text"
      },
      "source": [
        "##### **FUNCTION CALL FOR PERFORMING PRE-PROCESSING ON FAKE IMAGES**"
      ]
    },
    {
      "cell_type": "code",
      "metadata": {
        "id": "1nsT7GL-PBrs",
        "colab_type": "code",
        "outputId": "1f3c209b-90a9-4c5a-95fd-fee41e25183c",
        "colab": {
          "base_uri": "https://localhost:8080/",
          "height": 84
        }
      },
      "source": [
        "fake = image_preproc(\"/content/drive/My Drive/DL_PROJECT/PROJECT/DL_PROJECT_DATA/fake_ELA\",1,len(original))"
      ],
      "execution_count": 0,
      "outputs": [
        {
          "output_type": "stream",
          "text": [
            "100%|██████████| 450/450 [09:17<00:00,  2.68s/it]"
          ],
          "name": "stderr"
        },
        {
          "output_type": "stream",
          "text": [
            "\n",
            "\n",
            "PRE-PROCESSING PERFORMED ON 450 IMAGES\n"
          ],
          "name": "stdout"
        },
        {
          "output_type": "stream",
          "text": [
            "\n"
          ],
          "name": "stderr"
        }
      ]
    },
    {
      "cell_type": "markdown",
      "metadata": {
        "id": "XNrR0480VK-A",
        "colab_type": "text"
      },
      "source": [
        "# **CONCATENATING THE PRE-PROCESSED DATA INTO A SINGLE DATAFRAME**"
      ]
    },
    {
      "cell_type": "code",
      "metadata": {
        "id": "TznedC05DBHO",
        "colab_type": "code",
        "outputId": "6dffcf9e-be4c-4cf2-cae9-02c2bb1ab824",
        "colab": {
          "base_uri": "https://localhost:8080/",
          "height": 34
        }
      },
      "source": [
        "total_data = original.append(fake,ignore_index=True) ## concatenating dataframes one after the other\n",
        "total_data = total_data.sample(frac=1).reset_index(drop=True) ## shuffling the data\n",
        "print(\"SHAPE OF THE ENTIRE DATA::\",total_data.shape)"
      ],
      "execution_count": 0,
      "outputs": [
        {
          "output_type": "stream",
          "text": [
            "SHAPE OF THE ENTIRE DATA:: (1500, 2)\n"
          ],
          "name": "stdout"
        }
      ]
    },
    {
      "cell_type": "markdown",
      "metadata": {
        "id": "i5DJyD2cgQ3P",
        "colab_type": "text"
      },
      "source": [
        "# **SAMPLES PER CLASS IN THE WHOLE DATA**"
      ]
    },
    {
      "cell_type": "code",
      "metadata": {
        "id": "89r5FNpGDBEj",
        "colab_type": "code",
        "colab": {}
      },
      "source": [
        "def visualize(data,type_):\n",
        "  try:\n",
        "    ax = data['class'].value_counts().plot(kind='bar',grid=True)\n",
        "  except:\n",
        "    ax = data.value_counts().plot(kind='bar',grid=True)\n",
        "  if (type_ == \"train\"):\n",
        "    plt.title(\"TRAINING DATA STATISTICS\")\n",
        "  elif (type_==\"cv\"):\n",
        "    plt.title(\"CV DATA STATISTICS\")\n",
        "  elif (type_==\"test\"):\n",
        "    plt.title(\"TEST DATA STATISTICS\")\n",
        "  else:\n",
        "    plt.title(\"COMPLETE DATA STATISTICS\")\n",
        "  plt.xlabel(\"CLASSES\")\n",
        "  plt.ylabel(\"NUMBER OF IMAGES\")\n",
        "  plt.xticks([0, 1], ['Pristine', 'Fake'])\n",
        "  plt.show()"
      ],
      "execution_count": 0,
      "outputs": []
    },
    {
      "cell_type": "code",
      "metadata": {
        "id": "5VcO90h2_QeS",
        "colab_type": "code",
        "outputId": "aa6dafbe-7a95-44cc-8611-908e71996bf1",
        "colab": {
          "base_uri": "https://localhost:8080/",
          "height": 323
        }
      },
      "source": [
        "visualize(total_data,0)"
      ],
      "execution_count": 0,
      "outputs": [
        {
          "output_type": "display_data",
          "data": {
            "image/png": "[encoded data removed]",
            "text/plain": [
              "<Figure size 432x288 with 1 Axes>"
            ]
          },
          "metadata": {
            "tags": []
          }
        }
      ]
    },
    {
      "cell_type": "markdown",
      "metadata": {
        "id": "M6nu26oUgn74",
        "colab_type": "text"
      },
      "source": [
        "# **TRAIN-CV-TEST SPLIT**"
      ]
    },
    {
      "cell_type": "code",
      "metadata": {
        "id": "l9p4mHjbDBCJ",
        "colab_type": "code",
        "colab": {}
      },
      "source": [
        "x_train, x_cv, y_train, y_cv = train_test_split(total_data['image'],total_data['class'],train_size=0.90,shuffle=True)\n",
        "x_train, x_test, y_train, y_test = train_test_split(x_train,y_train,train_size=0.75,shuffle=True)"
      ],
      "execution_count": 0,
      "outputs": []
    },
    {
      "cell_type": "markdown",
      "metadata": {
        "id": "q8nJ9T9TcY_T",
        "colab_type": "text"
      },
      "source": [
        "# **SAMPLES PER CLASS IN TRAINING/CV/TEST DATASETS**"
      ]
    },
    {
      "cell_type": "code",
      "metadata": {
        "id": "silpBJQlM1Kz",
        "colab_type": "code",
        "outputId": "010c90e2-0b7e-453e-f7c4-95b761f26756",
        "colab": {
          "base_uri": "https://localhost:8080/",
          "height": 935
        }
      },
      "source": [
        "visualize(y_train,\"train\")\n",
        "visualize(y_cv,\"cv\")\n",
        "visualize(y_test,\"test\")"
      ],
      "execution_count": 0,
      "outputs": [
        {
          "output_type": "display_data",
          "data": {
            "image/png": "[encoded data removed]",
            "text/plain": [
              "<Figure size 432x288 with 1 Axes>"
            ]
          },
          "metadata": {
            "tags": []
          }
        },
        {
          "output_type": "display_data",
          "data": {
            "image/png": "[encoded data removed]",
            "text/plain": [
              "<Figure size 432x288 with 1 Axes>"
            ]
          },
          "metadata": {
            "tags": []
          }
        },
        {
          "output_type": "display_data",
          "data": {
            "image/png": "[encoded data removed]",
            "text/plain": [
              "<Figure size 432x288 with 1 Axes>"
            ]
          },
          "metadata": {
            "tags": []
          }
        }
      ]
    },
    {
      "cell_type": "markdown",
      "metadata": {
        "id": "19Y95Yqlq8K0",
        "colab_type": "text"
      },
      "source": [
        "# **CONVERTING THE PANDAS DATAFRAMES INTO NUMPY ARRAYS**"
      ]
    },
    {
      "cell_type": "code",
      "metadata": {
        "id": "fFWyr9vkqjw4",
        "colab_type": "code",
        "outputId": "cfea6987-7d0f-4b90-bdfd-9616eb6e7792",
        "colab": {
          "base_uri": "https://localhost:8080/",
          "height": 118
        }
      },
      "source": [
        "x_train = np.array(x_train)\n",
        "x_cv = np.array(x_cv)\n",
        "x_test = np.array(x_test)\n",
        "y_train = np.array(y_train)\n",
        "y_cv = np.array(y_cv)\n",
        "y_test = np.array(y_test)\n",
        "print(\"x_train::\",x_train.shape)\n",
        "print(\"x_cv::\",x_cv.shape)\n",
        "print(\"x_test::\",x_test.shape)\n",
        "print(\"y_train::\",y_train.shape)\n",
        "print(\"y_cv::\",y_cv.shape)\n",
        "print(\"y_test::\",y_test.shape)"
      ],
      "execution_count": 0,
      "outputs": [
        {
          "output_type": "stream",
          "text": [
            "x_train:: (1012,)\n",
            "x_cv:: (150,)\n",
            "x_test:: (338,)\n",
            "y_train:: (1012,)\n",
            "y_cv:: (150,)\n",
            "y_test:: (338,)\n"
          ],
          "name": "stdout"
        }
      ]
    },
    {
      "cell_type": "markdown",
      "metadata": {
        "id": "e9ASwfp7BCAF",
        "colab_type": "text"
      },
      "source": [
        "# **RE-SHAPING THE DATA TO SUIT THE INPUT SHAPE FOR CNNs**"
      ]
    },
    {
      "cell_type": "code",
      "metadata": {
        "id": "x5kHQ-xFBCLs",
        "colab_type": "code",
        "colab": {}
      },
      "source": [
        "def reshape(data,flag):\n",
        "  if (flag==0):\n",
        "    l=[]\n",
        "    for i in data:\n",
        "      l.append(i)\n",
        "    l=np.array(l)\n",
        "    return l\n",
        "  else:\n",
        "    data = keras.utils.to_categorical(data,num_classes=2)\n",
        "    return data"
      ],
      "execution_count": 0,
      "outputs": []
    },
    {
      "cell_type": "code",
      "metadata": {
        "id": "1IentKDIESkq",
        "colab_type": "code",
        "outputId": "01bd4c66-f27e-490f-b01c-0b02cac007c0",
        "colab": {
          "base_uri": "https://localhost:8080/",
          "height": 118
        }
      },
      "source": [
        "x_train_cnn = reshape(x_train,0)\n",
        "print(\"SHAPE OF X TRAIN AFTER RESHAPING::\",x_train_cnn.shape)\n",
        "x_cv_cnn = reshape(x_cv,0)\n",
        "print(\"SHAPE OF X CV AFTER RESHAPING::\",x_cv_cnn.shape)\n",
        "x_test_cnn = reshape(x_test,0)\n",
        "print(\"SHAPE OF X_TEST AFTER RESHAPING::\",x_test_cnn.shape)\n",
        "y_train_oh = reshape(y_train,1)\n",
        "print(\"SHAPE OF Y_TRAIN AFTER ONE-HOT ENCODING::\",y_train_oh.shape)\n",
        "y_cv_oh = reshape(y_cv,1)\n",
        "print(\"SHAPE OF Y_CV AFTER ONE-HOT ENCODING::\",y_cv_oh.shape)\n",
        "y_test_oh = reshape(y_test,1)\n",
        "print(\"SHAPE OF Y_TEST AFTER ONE-HOT ENCODING::\",y_test_oh.shape)"
      ],
      "execution_count": 0,
      "outputs": [
        {
          "output_type": "stream",
          "text": [
            "SHAPE OF X TRAIN AFTER RESHAPING:: (1012, 512, 512, 3)\n",
            "SHAPE OF X CV AFTER RESHAPING:: (150, 512, 512, 3)\n",
            "SHAPE OF X_TEST AFTER RESHAPING:: (338, 512, 512, 3)\n",
            "SHAPE OF Y_TRAIN AFTER ONE-HOT ENCODING:: (1012, 2)\n",
            "SHAPE OF Y_CV AFTER ONE-HOT ENCODING:: (150, 2)\n",
            "SHAPE OF Y_TEST AFTER ONE-HOT ENCODING:: (338, 2)\n"
          ],
          "name": "stdout"
        }
      ]
    },
    {
      "cell_type": "markdown",
      "metadata": {
        "id": "2-iK5fL2ItMs",
        "colab_type": "text"
      },
      "source": [
        "# **CREATING PICKLE FILES OF PRE-PROCESSED TRAIN/CV/TEST DATASETS (DON'T RUN)**"
      ]
    },
    {
      "cell_type": "code",
      "metadata": {
        "id": "faa2ejKIPhsS",
        "colab_type": "code",
        "colab": {}
      },
      "source": [
        "#pickle_out = open(\"/content/drive/My Drive/DL_PROJECT/PROJECT/DL_PROJECT_DATA/x_train_cnn_DLP\",\"wb\")\n",
        "#pickle.dump(x_train_cnn, pickle_out)"
      ],
      "execution_count": 0,
      "outputs": []
    },
    {
      "cell_type": "code",
      "metadata": {
        "id": "KLTX-pTdPh1P",
        "colab_type": "code",
        "colab": {}
      },
      "source": [
        "#pickle_out = open(\"/content/drive/My Drive/DL_PROJECT/PROJECT/DL_PROJECT_DATA/y_train_oh_DLP\",\"wb\")\n",
        "#pickle.dump(y_train_oh,pickle_out)"
      ],
      "execution_count": 0,
      "outputs": []
    },
    {
      "cell_type": "code",
      "metadata": {
        "id": "bZuaOykDPh7u",
        "colab_type": "code",
        "colab": {}
      },
      "source": [
        "#pickle_out = open(\"/content/drive/My Drive/DL_PROJECT/PROJECT/DL_PROJECT_DATA/x_cv_cnn_DLP\",\"wb\")\n",
        "#pickle.dump(x_cv_cnn,pickle_out)"
      ],
      "execution_count": 0,
      "outputs": []
    },
    {
      "cell_type": "code",
      "metadata": {
        "id": "tyCmE6jLPiBT",
        "colab_type": "code",
        "colab": {}
      },
      "source": [
        "#pickle_out = open(\"/content/drive/My Drive/DL_PROJECT/PROJECT/DL_PROJECT_DATA/y_cv_oh_DLP\",\"wb\")\n",
        "#pickle.dump(y_cv_oh,pickle_out)"
      ],
      "execution_count": 0,
      "outputs": []
    },
    {
      "cell_type": "code",
      "metadata": {
        "id": "YYMcLlOUPiGh",
        "colab_type": "code",
        "colab": {}
      },
      "source": [
        "#pickle_out = open(\"/content/drive/My Drive/DL_PROJECT/PROJECT/DL_PROJECT_DATA/x_test_cnn_DLP\",\"wb\")\n",
        "#pickle.dump(x_test_cnn,pickle_out)"
      ],
      "execution_count": 0,
      "outputs": []
    },
    {
      "cell_type": "code",
      "metadata": {
        "id": "xYWFl88yPiKv",
        "colab_type": "code",
        "colab": {}
      },
      "source": [
        "#pickle_out = open(\"/content/drive/My Drive/DL_PROJECT/PROJECT/DL_PROJECT_DATA/y_test_oh_DLP\",\"wb\")\n",
        "#pickle.dump(y_test_oh,pickle_out)"
      ],
      "execution_count": 0,
      "outputs": []
    },
    {
      "cell_type": "markdown",
      "metadata": {
        "id": "2DofDnhtI4C2",
        "colab_type": "text"
      },
      "source": [
        "# **LOADING THE PICKLE FILES OF TRAIN/CV/TEST DATASETS**"
      ]
    },
    {
      "cell_type": "code",
      "metadata": {
        "id": "kbTLP9A79G4Z",
        "colab_type": "code",
        "outputId": "95849d6b-e82f-4573-aed5-7bfb8ab43bb0",
        "colab": {
          "base_uri": "https://localhost:8080/",
          "height": 218
        }
      },
      "source": [
        "pickle_in = open(\"/content/drive/My Drive/DL_PROJECT/PROJECT/DL_PROJECT_DATA/x_train_cnn_DLP\",\"rb\")\n",
        "x_train_cnn = pickle.load(pickle_in)\n",
        "print(\"X TRAIN LOADED..\")\n",
        "pickle_in = open(\"/content/drive/My Drive/DL_PROJECT/PROJECT/DL_PROJECT_DATA/y_train_oh_DLP\",\"rb\")\n",
        "y_train_oh = pickle.load(pickle_in)\n",
        "print(\"Y TRAIN LOADED..\")\n",
        "pickle_in = open(\"/content/drive/My Drive/DL_PROJECT/PROJECT/DL_PROJECT_DATA/x_cv_cnn_DLP\",\"rb\")\n",
        "x_cv_cnn = pickle.load(pickle_in)\n",
        "print(\"X CV LOADED..\")\n",
        "pickle_in = open(\"/content/drive/My Drive/DL_PROJECT/PROJECT/DL_PROJECT_DATA/y_cv_oh_DLP\",\"rb\")\n",
        "y_cv_oh = pickle.load(pickle_in)\n",
        "print(\"Y CV LOADED..\")\n",
        "pickle_in = open(\"/content/drive/My Drive/DL_PROJECT/PROJECT/DL_PROJECT_DATA/x_test_cnn_DLP\",\"rb\")\n",
        "x_test_cnn = pickle.load(pickle_in)\n",
        "print(\"X TEST LOADED..\")\n",
        "pickle_in = open(\"/content/drive/My Drive/DL_PROJECT/PROJECT/DL_PROJECT_DATA/y_test_oh_DLP\",\"rb\")\n",
        "y_test_oh = pickle.load(pickle_in)\n",
        "print(\"Y TEST LOADED..\")\n",
        "print(\"SHAPE OF X TRAIN::\",x_train_cnn.shape)\n",
        "print(\"SHAPE OF X CV::\",x_cv_cnn.shape)\n",
        "print(\"SHAPE OF X_TEST::\",x_test_cnn.shape)\n",
        "print(\"SHAPE OF Y_TRAIN::\",y_train_oh.shape)\n",
        "print(\"SHAPE OF Y_CV::\",y_cv_oh.shape)\n",
        "print(\"SHAPE OF Y_TEST::\",y_test_oh.shape)"
      ],
      "execution_count": 0,
      "outputs": [
        {
          "output_type": "stream",
          "text": [
            "X TRAIN LOADED..\n",
            "Y TRAIN LOADED..\n",
            "X CV LOADED..\n",
            "Y CV LOADED..\n",
            "X TEST LOADED..\n",
            "Y TEST LOADED..\n",
            "SHAPE OF X TRAIN:: (1012, 512, 512, 3)\n",
            "SHAPE OF X CV:: (150, 512, 512, 3)\n",
            "SHAPE OF X_TEST:: (338, 512, 512, 3)\n",
            "SHAPE OF Y_TRAIN:: (1012, 2)\n",
            "SHAPE OF Y_CV:: (150, 2)\n",
            "SHAPE OF Y_TEST:: (338, 2)\n"
          ],
          "name": "stdout"
        }
      ]
    },
    {
      "cell_type": "markdown",
      "metadata": {
        "id": "Z9uq_0yHvTJf",
        "colab_type": "text"
      },
      "source": [
        "# **RESHAPING THE DATA TO SUIT MLP INPUT SHAPE**"
      ]
    },
    {
      "cell_type": "code",
      "metadata": {
        "id": "JtUbBxiNLF8t",
        "colab_type": "code",
        "outputId": "f9ef0057-1c6a-4c9d-ac07-ac5476545fe1",
        "colab": {
          "base_uri": "https://localhost:8080/",
          "height": 34
        }
      },
      "source": [
        "l_train=[]\n",
        "l_cv=[]\n",
        "l_test=[]\n",
        "for i in x_train:\n",
        "  l_train.append(i.flatten())\n",
        "l_train = np.array(l_train)\n",
        "for j in x_cv:\n",
        "  l_cv.append(j.flatten())\n",
        "l_cv = np.array(l_cv)\n",
        "for k in x_test:\n",
        "  l_test.append(k.flatten())\n",
        "l_test = np.array(l_test)\n",
        "print(l_train.shape,l_cv.shape,l_test.shape)"
      ],
      "execution_count": 0,
      "outputs": [
        {
          "output_type": "stream",
          "text": [
            "(1012, 786432) (150, 786432) (338, 786432)\n"
          ],
          "name": "stdout"
        }
      ]
    },
    {
      "cell_type": "markdown",
      "metadata": {
        "id": "c8mQlJphRl3j",
        "colab_type": "text"
      },
      "source": [
        "# **TRAINING A MLP WITHOUT ANY DATA AUGMENTATION** "
      ]
    },
    {
      "cell_type": "code",
      "metadata": {
        "id": "cGnouKKR2Obu",
        "colab_type": "code",
        "outputId": "3df17765-c34d-4f3e-fcef-5557be0510d3",
        "colab": {
          "base_uri": "https://localhost:8080/",
          "height": 370
        }
      },
      "source": [
        "#ref:https://keras.io/examples/mnist_mlp/\n",
        "import keras_metrics\n",
        "mlp = Sequential()## defining a sequential model\n",
        "mlp.add(Dense(150, activation='relu',input_shape=(786432,),kernel_initializer='he_normal'))\n",
        "mlp.add(Dropout(0.2)) \n",
        "mlp.add(Dense(50, activation='relu',kernel_initializer='he_normal'))\n",
        "mlp.add(Dropout(0.2)) \n",
        "mlp.add(Dense(10, activation='relu',kernel_initializer='he_normal'))\n",
        "mlp.add(Dropout(0.2)) \n",
        "mlp.add(Dense(10, activation='relu',kernel_initializer='he_normal')) \n",
        "mlp.add(BatchNormalization()) \n",
        "mlp.add(Dense(2, activation='softmax')) \n",
        "mlp.compile(loss='binary_crossentropy',optimizer=keras.optimizers.Adam(lr=0.0001),metrics=([keras_metrics.binary_f1_score()])) \n",
        "values_mlp = mlp.fit(l_train,y_train,batch_size=25,epochs=10,validation_data=(l_cv,y_cv))"
      ],
      "execution_count": 0,
      "outputs": [
        {
          "output_type": "stream",
          "text": [
            "Train on 1012 samples, validate on 150 samples\n",
            "Epoch 1/10\n",
            "1012/1012 [==============================] - 4s 4ms/step - loss: 0.8595 - f1_score: 0.6163 - val_loss: 0.6386 - val_f1_score: 0.8327\n",
            "Epoch 2/10\n",
            "1012/1012 [==============================] - 4s 4ms/step - loss: 0.8053 - f1_score: 0.6185 - val_loss: 0.7295 - val_f1_score: 0.5371\n",
            "Epoch 3/10\n",
            "1012/1012 [==============================] - 4s 4ms/step - loss: 0.7638 - f1_score: 0.6020 - val_loss: 0.7304 - val_f1_score: 0.5287\n",
            "Epoch 4/10\n",
            "1012/1012 [==============================] - 4s 4ms/step - loss: 0.7648 - f1_score: 0.5879 - val_loss: 0.7054 - val_f1_score: 0.5761\n",
            "Epoch 5/10\n",
            "1012/1012 [==============================] - 4s 4ms/step - loss: 0.7699 - f1_score: 0.6164 - val_loss: 0.7011 - val_f1_score: 0.6032\n",
            "Epoch 6/10\n",
            "1012/1012 [==============================] - 4s 4ms/step - loss: 0.7464 - f1_score: 0.6585 - val_loss: 0.6985 - val_f1_score: 0.6105\n",
            "Epoch 7/10\n",
            "1012/1012 [==============================] - 4s 4ms/step - loss: 0.7452 - f1_score: 0.6324 - val_loss: 0.6882 - val_f1_score: 0.6429\n",
            "Epoch 8/10\n",
            "1012/1012 [==============================] - 4s 4ms/step - loss: 0.7033 - f1_score: 0.6454 - val_loss: 0.6746 - val_f1_score: 0.6893\n",
            "Epoch 9/10\n",
            "1012/1012 [==============================] - 4s 4ms/step - loss: 0.7268 - f1_score: 0.6403 - val_loss: 0.7094 - val_f1_score: 0.5683\n",
            "Epoch 10/10\n",
            "1012/1012 [==============================] - 4s 4ms/step - loss: 0.7265 - f1_score: 0.6438 - val_loss: 0.7124 - val_f1_score: 0.5746\n"
          ],
          "name": "stdout"
        }
      ]
    },
    {
      "cell_type": "markdown",
      "metadata": {
        "id": "jCttZMpl0YON",
        "colab_type": "text"
      },
      "source": [
        "## **CONFUSION MATRIX WITH MLP**"
      ]
    },
    {
      "cell_type": "code",
      "metadata": {
        "id": "f-VkdWPozML3",
        "colab_type": "code",
        "outputId": "6fdb38ae-0a19-43da-dd62-74e870985846",
        "colab": {
          "base_uri": "https://localhost:8080/",
          "height": 50
        }
      },
      "source": [
        "matrix = metrics.confusion_matrix(y_test.argmax(axis=1), mlp.predict_classes(l_test))#y_pred.argmax(axis=1))\n",
        "print(matrix)"
      ],
      "execution_count": 0,
      "outputs": [
        {
          "output_type": "stream",
          "text": [
            "[[115 117]\n",
            " [ 55  51]]\n"
          ],
          "name": "stdout"
        }
      ]
    },
    {
      "cell_type": "markdown",
      "metadata": {
        "id": "kJJAeIrB14gh",
        "colab_type": "text"
      },
      "source": [
        "## **PERFORMANCE WITH MLP**"
      ]
    },
    {
      "cell_type": "code",
      "metadata": {
        "id": "HnxcLWoKR8rb",
        "colab_type": "code",
        "outputId": "e83f059c-3a6e-4b51-aeab-56b909a66c0e",
        "colab": {
          "base_uri": "https://localhost:8080/",
          "height": 168
        }
      },
      "source": [
        "scores_train_mlp = mlp.evaluate(l_train,y_train)\n",
        "print(\"TRAIN F1-SCORE WITH MLP::\",scores_train_mlp[1])\n",
        "print(\"TRAINING LOSS WITH MLP::\",scores_train_mlp[0])\n",
        "scores_cv_mlp = mlp.evaluate(l_cv,y_cv)\n",
        "print(\"CV F1-SCORE WITH MLP::\",scores_cv_mlp[1])\n",
        "print(\"CV LOSS WITH MLP::\",scores_cv_mlp[0])\n",
        "scores_test_mlp = mlp.evaluate(l_test,y_test)\n",
        "print(\"TEST F1-SCORE WITH MLP::\",scores_test_mlp[1])\n",
        "print(\"TEST LOSS WITH MLP::\",scores_test_mlp[0])"
      ],
      "execution_count": 0,
      "outputs": [
        {
          "output_type": "stream",
          "text": [
            "1012/1012 [==============================] - 2s 2ms/step\n",
            "TRAIN F1-SCORE WITH MLP:: 0.6328699429393999\n",
            "TRAINING LOSS WITH MLP:: 0.6719356721097772\n",
            "150/150 [==============================] - 0s 2ms/step\n",
            "CV F1-SCORE WITH MLP:: 0.5745855872897693\n",
            "CV LOSS WITH MLP:: 0.7123670164744059\n",
            "338/338 [==============================] - 1s 2ms/step\n",
            "TEST F1-SCORE WITH MLP:: 0.5721392543872719\n",
            "TEST LOSS WITH MLP:: 0.6864882436024367\n"
          ],
          "name": "stdout"
        }
      ]
    },
    {
      "cell_type": "markdown",
      "metadata": {
        "id": "C1EsadEQVNsg",
        "colab_type": "text"
      },
      "source": [
        "## **EPOCHS VS F1-SCORE WITH MLP**"
      ]
    },
    {
      "cell_type": "code",
      "metadata": {
        "id": "AiQ4EsapUkKB",
        "colab_type": "code",
        "outputId": "6e551fbc-cb12-4f96-9df8-4554d85f9408",
        "colab": {
          "base_uri": "https://localhost:8080/",
          "height": 295
        }
      },
      "source": [
        "plt.plot(values_mlp.history['f1_score'])\n",
        "plt.plot(values_mlp.history['val_f1_score'])\n",
        "plt.title('Epochs v/s F1-SCORE')\n",
        "plt.xlabel('Epoch')\n",
        "plt.ylabel('F1-SCORE')\n",
        "plt.ylim([0,1])\n",
        "plt.legend(['Train f1_score','Validation f1_score'])\n",
        "plt.show()"
      ],
      "execution_count": 0,
      "outputs": [
        {
          "output_type": "display_data",
          "data": {
            "image/png": "[encoded data removed]",
            "text/plain": [
              "<Figure size 432x288 with 1 Axes>"
            ]
          },
          "metadata": {
            "tags": []
          }
        }
      ]
    },
    {
      "cell_type": "markdown",
      "metadata": {
        "id": "eyI5C_okV16a",
        "colab_type": "text"
      },
      "source": [
        "## **EPOCHS VS LOSS WITH MLP**"
      ]
    },
    {
      "cell_type": "code",
      "metadata": {
        "id": "ZmrPRBJjV2Fs",
        "colab_type": "code",
        "outputId": "099cfefc-f6fd-4e1d-d800-3952422e559a",
        "colab": {
          "base_uri": "https://localhost:8080/",
          "height": 295
        }
      },
      "source": [
        "plt.plot(values_mlp.history['loss'])\n",
        "plt.plot(values_mlp.history['val_loss'])\n",
        "plt.title('Epochs v/s Loss')\n",
        "plt.xlabel('Epoch')\n",
        "plt.ylabel('Loss')\n",
        "plt.ylim([0.4,1])\n",
        "plt.legend(['Train Loss', 'CV Loss'])\n",
        "plt.show()"
      ],
      "execution_count": 0,
      "outputs": [
        {
          "output_type": "display_data",
          "data": {
            "image/png": "[encoded data removed]",
            "text/plain": [
              "<Figure size 432x288 with 1 Axes>"
            ]
          },
          "metadata": {
            "tags": []
          }
        }
      ]
    },
    {
      "cell_type": "markdown",
      "metadata": {
        "id": "E-dsECwXVNgX",
        "colab_type": "text"
      },
      "source": [
        "## **RESULTS::**\n",
        "### **TRAINING LOSS:0.671**\n",
        "### **TRAINING F1-SCORE:0.632**\n",
        "### **VALIDATION LOSS: 0.712**\n",
        "### **VALIDATION F1-SCORE: 0.574**\n",
        "### **TEST LOSS:0.686**\n",
        "### **TEST F1-SCORE:0.572**"
      ]
    },
    {
      "cell_type": "markdown",
      "metadata": {
        "id": "0SEu4uUf4gGP",
        "colab_type": "text"
      },
      "source": [
        "# **PERFORMING DATA AUGMENTATION**"
      ]
    },
    {
      "cell_type": "code",
      "metadata": {
        "id": "7xaMbamF4lEo",
        "colab_type": "code",
        "outputId": "705987c2-8cc5-44bf-f695-5ab44be18d88",
        "colab": {
          "base_uri": "https://localhost:8080/",
          "height": 34
        }
      },
      "source": [
        "#ref:https://www.analyticsvidhya.com/blog/2019/12/image-augmentation-deep-learning-pytorch/\n",
        "x_train_aug = []\n",
        "y_train_aug = []\n",
        "from skimage.transform import AffineTransform,warp\n",
        "transform = AffineTransform(translation=(25,25))\n",
        "for i in tqdm(range(x_train_cnn.shape[0]),leave=True,position=0):\n",
        "  if(y_train_oh[i]==[1,0]).all():\n",
        "      x_train_aug.append(x_train_cnn[i]) ## original image\n",
        "      x_train_aug.append(np.fliplr(x_train_cnn[i])) ## mirror image\n",
        "      x_train_aug.append(np.flipud(x_train_cnn[i])) ## upside down\n",
        "      for j in range(3):\n",
        "          y_train_aug.append(y_train_oh[i])\n",
        "  if(y_train_oh[i]==[0,1]).all():\n",
        "      x_train_aug.append(x_train_cnn[i]) ## original image\n",
        "      x_train_aug.append(rotate(x_train_cnn[i], angle=45)) ## rotation\n",
        "      x_train_aug.append(np.fliplr(x_train_cnn[i])) ## mirror image\n",
        "      x_train_aug.append(np.flipud(x_train_cnn[i])) ## upside down\n",
        "      x_train_aug.append(warp(x_train_cnn[i],transform))\n",
        "      for j in range(5):\n",
        "          y_train_aug.append(y_train_oh[i])\n",
        "x_train_aug = np.asarray(x_train_aug)\n",
        "y_train_aug_oh = np.asarray(y_train_aug)"
      ],
      "execution_count": 0,
      "outputs": [
        {
          "output_type": "stream",
          "text": [
            "100%|██████████| 1012/1012 [00:13<00:00, 77.10it/s]\n"
          ],
          "name": "stderr"
        }
      ]
    },
    {
      "cell_type": "code",
      "metadata": {
        "id": "jQRGz0sjVk-p",
        "colab_type": "code",
        "outputId": "0e0f4973-34dc-486e-fbec-79c6d5012fc9",
        "colab": {
          "base_uri": "https://localhost:8080/",
          "height": 151
        }
      },
      "source": [
        "print(\"\\nSIZE OF X_TRAIN BEFORE DATA AUGMENTATION::\",x_train_cnn.shape)\n",
        "print(\"\\nSIZE OF Y_TRAIN BEFORE DATA AUGMENTATION::\",y_train_oh.shape)\n",
        "print(\"\\nSIZE OF X_TRAIN AFTER DATA AUGMENTATION::\",x_train_aug.shape)\n",
        "print(\"\\nSIZE OF Y_TRAIN AFTER DATA AUGMENTATION::\",y_train_aug_oh.shape)"
      ],
      "execution_count": 0,
      "outputs": [
        {
          "output_type": "stream",
          "text": [
            "\n",
            "SIZE OF X_TRAIN BEFORE DATA AUGMENTATION:: (1012, 512, 512, 3)\n",
            "\n",
            "SIZE OF Y_TRAIN BEFORE DATA AUGMENTATION:: (1012, 2)\n",
            "\n",
            "SIZE OF X_TRAIN AFTER DATA AUGMENTATION:: (3634, 512, 512, 3)\n",
            "\n",
            "SIZE OF Y_TRAIN AFTER DATA AUGMENTATION:: (3634, 2)\n"
          ],
          "name": "stdout"
        }
      ]
    },
    {
      "cell_type": "markdown",
      "metadata": {
        "id": "qZcIK5VMb-Hu",
        "colab_type": "text"
      },
      "source": [
        "# **CREATING PICKLE FILES FOR AUGMENTED DATA**"
      ]
    },
    {
      "cell_type": "code",
      "metadata": {
        "id": "1dnMhQJQba0B",
        "colab_type": "code",
        "colab": {}
      },
      "source": [
        "'''pickle_out = open(\"/content/drive/My Drive/DL_PROJECT/PROJECT/DL_PROJECT_DATA/x_train_aug_DLP\",\"wb\")\n",
        "pickle.dump(x_train_aug,pickle_out)'''"
      ],
      "execution_count": 0,
      "outputs": []
    },
    {
      "cell_type": "code",
      "metadata": {
        "id": "mLPCAzYCblLs",
        "colab_type": "code",
        "colab": {}
      },
      "source": [
        "'''pickle_out = open(\"/content/drive/My Drive/DL_PROJECT/PROJECT/DL_PROJECT_DATA/y_train_aug_oh_DLP\",\"wb\")\n",
        "pickle.dump(y_train_aug_oh,pickle_out)'''"
      ],
      "execution_count": 0,
      "outputs": []
    },
    {
      "cell_type": "markdown",
      "metadata": {
        "id": "4b5JXwEJb-32",
        "colab_type": "text"
      },
      "source": [
        "# **LOADING PICKLE FILES OF AUGMENTED DATA**"
      ]
    },
    {
      "cell_type": "code",
      "metadata": {
        "id": "hxxaZhcIbpv3",
        "colab_type": "code",
        "colab": {}
      },
      "source": [
        "'''pickle_in = open(\"/content/drive/My Drive/DL_PROJECT/PROJECT/DL_PROJECT_DATA/x_train_aug_DLP\",\"rb\")\n",
        "x_train_aug = pickle.load(pickle_in)\n",
        "print(\"SHAPE OF X-TRAIN AUGMENTED::\",x_train_aug.shape)'''"
      ],
      "execution_count": 0,
      "outputs": []
    },
    {
      "cell_type": "code",
      "metadata": {
        "id": "amuj52mPbp4R",
        "colab_type": "code",
        "colab": {}
      },
      "source": [
        "'''pickle_in = open(\"/content/drive/My Drive/DL_PROJECT/PROJECT/DL_PROJECT_DATA/y_train_aug_oh_DLP\",\"rb\")\n",
        "y_train_aug_oh = pickle.load(pickle_in)\n",
        "print(\"SHAPE OF Y-TRAIN AUGMENTED::\",y_train_aug_oh.shape)'''"
      ],
      "execution_count": 0,
      "outputs": []
    },
    {
      "cell_type": "markdown",
      "metadata": {
        "id": "67zKcoTsX25J",
        "colab_type": "text"
      },
      "source": [
        "# **TRAINING DATA STATISTICS AFTER DATA AUGMENTATION**"
      ]
    },
    {
      "cell_type": "code",
      "metadata": {
        "id": "jP-36DE7_cj2",
        "colab_type": "code",
        "outputId": "8a0f1223-cb9f-47e8-8c4c-2dec26cecd62",
        "colab": {
          "base_uri": "https://localhost:8080/",
          "height": 314
        }
      },
      "source": [
        "lab={}\n",
        "lab['original']=0\n",
        "lab['fake']=0\n",
        "for i in y_train_aug_oh:\n",
        "  if (i==np.array([1,0])).all():\n",
        "    lab['original']+=1\n",
        "  elif(i==np.array([0,1])).all():\n",
        "    lab['fake']+=1\n",
        "x = ['original','fake'] \n",
        "y = [lab['original'],lab['fake']] \n",
        "plt.bar(x, y, align = 'center') \n",
        "plt.title('TRAINING DATA STATISTICS AFTER DATA AUGMENTATION') \n",
        "plt.ylabel('NUMBER OF SAMPLES') \n",
        "plt.show()\n",
        "print(\"COUNT OF ORIGINAL IMAGES AFTER DATA AUGMENTATION::\",lab['original'])\n",
        "print(\"COUNT OF FAKE IMAGES AFTER DATA AUGMENTATION::\",lab['fake'])"
      ],
      "execution_count": 0,
      "outputs": [
        {
          "output_type": "display_data",
          "data": {
            "image/png": "[encoded data removed]",
            "text/plain": [
              "<Figure size 432x288 with 1 Axes>"
            ]
          },
          "metadata": {
            "tags": []
          }
        },
        {
          "output_type": "stream",
          "text": [
            "COUNT OF ORIGINAL IMAGES AFTER DATA AUGMENTATION:: 2139\n",
            "COUNT OF FAKE IMAGES AFTER DATA AUGMENTATION:: 1495\n"
          ],
          "name": "stdout"
        }
      ]
    },
    {
      "cell_type": "markdown",
      "metadata": {
        "id": "jijvTRKPkc9Y",
        "colab_type": "text"
      },
      "source": [
        "# **TRAINING A CNN ARCHITECTURE WITH DATA AUGMENTATION**"
      ]
    },
    {
      "cell_type": "code",
      "metadata": {
        "id": "ooYGFvanM1Nh",
        "colab_type": "code",
        "outputId": "d8140a65-c484-400d-91c6-86701581012c",
        "colab": {
          "base_uri": "https://localhost:8080/",
          "height": 235
        }
      },
      "source": [
        "import keras_metrics\n",
        "model_cnn = Sequential() \n",
        "model_cnn.add(Conv2D(16, kernel_size =(3, 3), strides =(1, 1),activation ='relu',input_shape=(512,512,3),kernel_initializer='he_normal'))\n",
        "model_cnn.add(MaxPooling2D(pool_size =(2, 2), strides =2))\n",
        "model_cnn.add(Conv2D(16, kernel_size =(3, 3), strides =(1, 1),activation ='relu',input_shape=(512,512,3),kernel_initializer='he_normal'))\n",
        "model_cnn.add(MaxPooling2D(pool_size =(2, 2), strides =2))\n",
        "model_cnn.add(Dropout(0.4)) \n",
        "model_cnn.add(Flatten())\n",
        "model_cnn.add(Dense(32, activation ='relu',kernel_initializer='he_normal'))\n",
        "model_cnn.add(Dropout(0.4)) \n",
        "model_cnn.add(Dense(2, activation ='softmax'))\n",
        "model_cnn.compile(loss = keras.losses.binary_crossentropy,optimizer = keras.optimizers.Adam(lr = 0.00015),metrics=([keras_metrics.binary_f1_score()]))\n",
        "values_cnn = model_cnn.fit(x_train_aug,y_train_aug_oh,batch_size=25,epochs=6,validation_data =(x_cv_cnn,y_cv_oh))"
      ],
      "execution_count": 0,
      "outputs": [
        {
          "output_type": "stream",
          "text": [
            "Train on 3634 samples, validate on 150 samples\n",
            "Epoch 1/6\n",
            "3634/3634 [==============================] - 13s 4ms/step - loss: 0.6063 - f1_score: 0.7753 - val_loss: 0.6008 - val_f1_score: 0.8480\n",
            "Epoch 2/6\n",
            "3634/3634 [==============================] - 12s 3ms/step - loss: 0.5072 - f1_score: 0.8307 - val_loss: 0.6237 - val_f1_score: 0.8201\n",
            "Epoch 3/6\n",
            "3634/3634 [==============================] - 12s 3ms/step - loss: 0.4710 - f1_score: 0.8403 - val_loss: 0.5442 - val_f1_score: 0.8502\n",
            "Epoch 4/6\n",
            "3634/3634 [==============================] - 12s 3ms/step - loss: 0.4309 - f1_score: 0.8525 - val_loss: 0.5984 - val_f1_score: 0.8525\n",
            "Epoch 5/6\n",
            "3634/3634 [==============================] - 12s 3ms/step - loss: 0.4102 - f1_score: 0.8571 - val_loss: 0.5758 - val_f1_score: 0.8477\n",
            "Epoch 6/6\n",
            "3634/3634 [==============================] - 12s 3ms/step - loss: 0.3845 - f1_score: 0.8644 - val_loss: 0.5686 - val_f1_score: 0.8477\n"
          ],
          "name": "stdout"
        }
      ]
    },
    {
      "cell_type": "markdown",
      "metadata": {
        "id": "eNyy6clkuALC",
        "colab_type": "text"
      },
      "source": [
        "# **CONFUSION MATRIX ON TEST DATA WITH CNN ARCHITECTURE**"
      ]
    },
    {
      "cell_type": "code",
      "metadata": {
        "id": "kt3wUe-QZp7J",
        "colab_type": "code",
        "outputId": "076d4341-c501-4fbe-96f0-9a7d53b4bca8",
        "colab": {
          "base_uri": "https://localhost:8080/",
          "height": 50
        }
      },
      "source": [
        "matrix = metrics.confusion_matrix(y_test_oh.argmax(axis=1), model_cnn.predict_classes(x_test_cnn))\n",
        "print(matrix)"
      ],
      "execution_count": 0,
      "outputs": [
        {
          "output_type": "stream",
          "text": [
            "[[219  11]\n",
            " [ 76  32]]\n"
          ],
          "name": "stdout"
        }
      ]
    },
    {
      "cell_type": "markdown",
      "metadata": {
        "id": "a2q2hMyruLCT",
        "colab_type": "text"
      },
      "source": [
        "# **SAVING THE CNN MODEL**"
      ]
    },
    {
      "cell_type": "code",
      "metadata": {
        "id": "lLcUw24715_J",
        "colab_type": "code",
        "colab": {}
      },
      "source": [
        "model_cnn.save(\"/content/drive/My Drive/DL_PROJECT/PROJECT/DL_PROJECT_DATA/cnn_model_phase_1.h5\") "
      ],
      "execution_count": 0,
      "outputs": []
    },
    {
      "cell_type": "markdown",
      "metadata": {
        "id": "E5DoParnuQvr",
        "colab_type": "text"
      },
      "source": [
        "# **PERFORMANCE ON THE TEST DATA WITH CNN ARCHITECTURE**"
      ]
    },
    {
      "cell_type": "code",
      "metadata": {
        "id": "gHfvBu9jcLmm",
        "colab_type": "code",
        "outputId": "c9d36298-f8f8-4ffa-9052-13c50f22f47a",
        "colab": {
          "base_uri": "https://localhost:8080/",
          "height": 50
        }
      },
      "source": [
        "model_cnn.evaluate(x_test_cnn,y_test_oh)"
      ],
      "execution_count": 0,
      "outputs": [
        {
          "output_type": "stream",
          "text": [
            "338/338 [==============================] - 1s 2ms/step\n"
          ],
          "name": "stdout"
        },
        {
          "output_type": "execute_result",
          "data": {
            "text/plain": [
              "[0.5353443195833962, 0.8342856647343341]"
            ]
          },
          "metadata": {
            "tags": []
          },
          "execution_count": 38
        }
      ]
    },
    {
      "cell_type": "markdown",
      "metadata": {
        "id": "R7CtCFbTiYFN",
        "colab_type": "text"
      },
      "source": [
        "## **EPOCHS V/S F1-SCORE WITH CNN ARCHITECTURE**\n"
      ]
    },
    {
      "cell_type": "code",
      "metadata": {
        "id": "Mb12DlgoiQJQ",
        "colab_type": "code",
        "outputId": "17f0205f-56f6-46aa-e8a8-9b429839226e",
        "colab": {
          "base_uri": "https://localhost:8080/",
          "height": 295
        }
      },
      "source": [
        "plt.plot(values_cnn.history['f1_score'])\n",
        "plt.plot(values_cnn.history['val_f1_score'])\n",
        "plt.title('Epochs v/s F1-SCORE')\n",
        "plt.xlabel('Epoch')\n",
        "plt.ylabel('F1-SCORE')\n",
        "plt.ylim([0,1])\n",
        "plt.legend(['Training F1-Score', 'CV F1-Score'])\n",
        "plt.show()"
      ],
      "execution_count": 0,
      "outputs": [
        {
          "output_type": "display_data",
          "data": {
            "image/png": "[encoded data removed]",
            "text/plain": [
              "<Figure size 432x288 with 1 Axes>"
            ]
          },
          "metadata": {
            "tags": []
          }
        }
      ]
    },
    {
      "cell_type": "markdown",
      "metadata": {
        "id": "yrZNUpeeiW75",
        "colab_type": "text"
      },
      "source": [
        "## **EPOCHS V/S LOSS WITH CNN ARCHITECTURE**"
      ]
    },
    {
      "cell_type": "code",
      "metadata": {
        "id": "2IveAZBZiWIG",
        "colab_type": "code",
        "outputId": "ecf47995-f5cb-4288-a976-d9cea0ce19c5",
        "colab": {
          "base_uri": "https://localhost:8080/",
          "height": 295
        }
      },
      "source": [
        "plt.plot(values_cnn.history['loss'])\n",
        "plt.plot(values_cnn.history['val_loss'])\n",
        "plt.title('Epochs v/s Loss')\n",
        "plt.xlabel('Epoch')\n",
        "plt.ylabel('Loss')\n",
        "plt.ylim([0,3])\n",
        "plt.legend(['Train Loss', 'CV Loss'])\n",
        "plt.show()"
      ],
      "execution_count": 0,
      "outputs": [
        {
          "output_type": "display_data",
          "data": {
            "image/png": "[encoded data removed]",
            "text/plain": [
              "<Figure size 432x288 with 1 Axes>"
            ]
          },
          "metadata": {
            "tags": []
          }
        }
      ]
    },
    {
      "cell_type": "markdown",
      "metadata": {
        "id": "i25j8QMLYjWJ",
        "colab_type": "text"
      },
      "source": [
        "## **RESULTS USING CNN ARCHITECTURE::**\n",
        "### **TRAINING LOSS:0.3845**\n",
        "### **TRAINING F1-Score:0.8644**\n",
        "### **VALIDATION LOSS:0.5686**\n",
        "### **VALIDATION F1-Score:0.8477**\n",
        "### **TEST LOSS:0.5353**\n",
        "### **TEST F1-Score:0.8342**\n"
      ]
    },
    {
      "cell_type": "markdown",
      "metadata": {
        "id": "yNZQ66Vpd1sN",
        "colab_type": "text"
      },
      "source": [
        "# **USING TRANSFER LEARNING**"
      ]
    },
    {
      "cell_type": "markdown",
      "metadata": {
        "id": "XAuy1AN_fXGN",
        "colab_type": "text"
      },
      "source": [
        "### **USING PRE-TRAINED RESNET-50 ARCHITECTURE WITH DATA AUGMENTATION**\n",
        "\n",
        "\n"
      ]
    },
    {
      "cell_type": "code",
      "metadata": {
        "id": "GQsdAezjgRyA",
        "colab_type": "code",
        "colab": {}
      },
      "source": [
        "import keras_metrics\n",
        "resnet_50 = ResNet50(include_top=False, weights='imagenet',input_shape=(512,512,3))"
      ],
      "execution_count": 0,
      "outputs": []
    },
    {
      "cell_type": "code",
      "metadata": {
        "id": "GJ2n03hHM1pV",
        "colab_type": "code",
        "outputId": "26a6ffb2-ca24-4b01-9a8c-4092d3093b58",
        "colab": {
          "base_uri": "https://localhost:8080/",
          "height": 202
        }
      },
      "source": [
        "model_resnet50=Sequential()\n",
        "model_resnet50.add(resnet_50)\n",
        "top_model=Sequential()\n",
        "top_model.add(Flatten(input_shape=(16,16,2048)))\n",
        "top_model.add(Dropout(0.7))\n",
        "top_model.add(BatchNormalization())\n",
        "top_model.add(Dense(2, activation='softmax'))\n",
        "model_resnet50.add(top_model)\n",
        "for layer in model_resnet50.layers[0].layers[:174]:\n",
        "    layer.trainable=False\n",
        "model_resnet50.compile(loss='binary_crossentropy', optimizer=keras.optimizers.Adam(0.001),metrics=([keras_metrics.binary_f1_score()]))\n",
        "values_resnet50=model_resnet50.fit(x_train_aug,y_train_aug_oh,batch_size=25,epochs=5,validation_data =(x_cv_cnn,y_cv_oh))"
      ],
      "execution_count": 0,
      "outputs": [
        {
          "output_type": "stream",
          "text": [
            "Train on 3634 samples, validate on 150 samples\n",
            "Epoch 1/5\n",
            "3634/3634 [==============================] - 43s 12ms/step - loss: 2.6242 - f1_score: 0.7964 - val_loss: 3.8469 - val_f1_score: 0.8136\n",
            "Epoch 2/5\n",
            "3634/3634 [==============================] - 39s 11ms/step - loss: 2.0745 - f1_score: 0.8667 - val_loss: 3.7060 - val_f1_score: 0.7798\n",
            "Epoch 3/5\n",
            "3634/3634 [==============================] - 39s 11ms/step - loss: 1.9756 - f1_score: 0.8766 - val_loss: 3.8156 - val_f1_score: 0.8382\n",
            "Epoch 4/5\n",
            "3634/3634 [==============================] - 39s 11ms/step - loss: 1.8017 - f1_score: 0.8905 - val_loss: 4.1551 - val_f1_score: 0.7890\n",
            "Epoch 5/5\n",
            "3634/3634 [==============================] - 39s 11ms/step - loss: 1.6538 - f1_score: 0.8968 - val_loss: 4.1459 - val_f1_score: 0.8250\n"
          ],
          "name": "stdout"
        }
      ]
    },
    {
      "cell_type": "markdown",
      "metadata": {
        "id": "psWudlTVluwA",
        "colab_type": "text"
      },
      "source": [
        "# **CONFUSION MATRIX WITH PRE-TRAINED RESNET-50** "
      ]
    },
    {
      "cell_type": "code",
      "metadata": {
        "id": "FkXYwz1xkwL8",
        "colab_type": "code",
        "outputId": "a45f9edd-f5dd-4247-f9c2-21ba9713c67f",
        "colab": {
          "base_uri": "https://localhost:8080/",
          "height": 50
        }
      },
      "source": [
        "matrix = metrics.confusion_matrix(y_test_oh.argmax(axis=1), model_resnet50.predict_classes(x_test_cnn))\n",
        "print(matrix)"
      ],
      "execution_count": 0,
      "outputs": [
        {
          "output_type": "stream",
          "text": [
            "[[210  20]\n",
            " [ 65  43]]\n"
          ],
          "name": "stdout"
        }
      ]
    },
    {
      "cell_type": "markdown",
      "metadata": {
        "id": "4umShK3Iu8ec",
        "colab_type": "text"
      },
      "source": [
        "# **SAVING THE PRE-TRAINED RESNET-50 MODEL**"
      ]
    },
    {
      "cell_type": "code",
      "metadata": {
        "id": "pPpIAeSJvJHV",
        "colab_type": "code",
        "colab": {}
      },
      "source": [
        "model_resnet50.save(\"/content/drive/My Drive/DL_PROJECT/PROJECT/DL_PROJECT_DATA/resnet_model_phase_1.h5\") "
      ],
      "execution_count": 0,
      "outputs": []
    },
    {
      "cell_type": "markdown",
      "metadata": {
        "id": "xYA31Db1mA6i",
        "colab_type": "text"
      },
      "source": [
        "# **PERFORMANCE ON THE TEST DATA WITH PRE-TRAINED RESNET-50**"
      ]
    },
    {
      "cell_type": "code",
      "metadata": {
        "id": "pJxmr9DQk8d_",
        "colab_type": "code",
        "outputId": "3363bd65-3861-4846-e119-691ff67d203c",
        "colab": {
          "base_uri": "https://localhost:8080/",
          "height": 50
        }
      },
      "source": [
        "model_resnet50.evaluate(x_test_cnn,y_test_oh)"
      ],
      "execution_count": 0,
      "outputs": [
        {
          "output_type": "stream",
          "text": [
            "338/338 [==============================] - 4s 11ms/step\n"
          ],
          "name": "stdout"
        },
        {
          "output_type": "execute_result",
          "data": {
            "text/plain": [
              "[3.5203481284824347, 0.8316831183844752]"
            ]
          },
          "metadata": {
            "tags": []
          },
          "execution_count": 68
        }
      ]
    },
    {
      "cell_type": "markdown",
      "metadata": {
        "id": "97uC-Jz-nz-x",
        "colab_type": "text"
      },
      "source": [
        "# **EPOCHS V/S F1-SCORE PLOT WITH PRE-TRAINED RESNET-50**"
      ]
    },
    {
      "cell_type": "code",
      "metadata": {
        "id": "RqCxlH_Jn0LG",
        "colab_type": "code",
        "outputId": "34618407-d769-4af2-e191-1189a198b768",
        "colab": {
          "base_uri": "https://localhost:8080/",
          "height": 295
        }
      },
      "source": [
        "plt.plot(values_resnet50.history['f1_score'])\n",
        "plt.plot(values_resnet50.history['val_f1_score'])\n",
        "plt.title('Epochs v/s F1-SCORE')\n",
        "plt.xlabel('Epoch')\n",
        "plt.ylabel('F1-SCORE')\n",
        "plt.ylim([0,1])\n",
        "plt.legend(['Training F1-Score', 'CV F1-Score'])\n",
        "plt.show()"
      ],
      "execution_count": 0,
      "outputs": [
        {
          "output_type": "display_data",
          "data": {
            "image/png": "[encoded data removed]",
            "text/plain": [
              "<Figure size 432x288 with 1 Axes>"
            ]
          },
          "metadata": {
            "tags": []
          }
        }
      ]
    },
    {
      "cell_type": "markdown",
      "metadata": {
        "id": "mZDj1Tq3n0Ul",
        "colab_type": "text"
      },
      "source": [
        "# **EPOCHS V/S LOSS PLOT WITH PRE-TRAINED RESNET-50**"
      ]
    },
    {
      "cell_type": "code",
      "metadata": {
        "id": "aZiZ1nW5n0hJ",
        "colab_type": "code",
        "outputId": "e711c172-286b-4256-bc5d-e1e9d854a81b",
        "colab": {
          "base_uri": "https://localhost:8080/",
          "height": 295
        }
      },
      "source": [
        "plt.plot(values_resnet50.history['loss'])\n",
        "plt.plot(values_resnet50.history['val_loss'])\n",
        "plt.title('Epochs v/s Loss')\n",
        "plt.xlabel('Epoch')\n",
        "plt.ylabel('Loss')\n",
        "plt.ylim([0,30])\n",
        "plt.legend(['Train Loss', 'CV Loss'])\n",
        "plt.show()"
      ],
      "execution_count": 0,
      "outputs": [
        {
          "output_type": "display_data",
          "data": {
            "image/png": "[encoded data removed]",
            "text/plain": [
              "<Figure size 432x288 with 1 Axes>"
            ]
          },
          "metadata": {
            "tags": []
          }
        }
      ]
    },
    {
      "cell_type": "markdown",
      "metadata": {
        "id": "QcDdJwnQn081",
        "colab_type": "text"
      },
      "source": [
        "## **RESULTS USING PRE-TRAINED RESNET-50 ARCHITECTURE::**\n",
        "### **TRAINING LOSS:1.6538**\n",
        "### **TRAINING F1-Score:0.8968**\n",
        "### **VALIDATION LOSS:3.1459**\n",
        "### **VALIDATION F1-Score:0.8250**\n",
        "### **TEST LOSS:3.5203**\n",
        "### **TEST F1-Score:0.8316**\n",
        "\n",
        "\n"
      ]
    },
    {
      "cell_type": "markdown",
      "metadata": {
        "id": "te6CYRyfMsr4",
        "colab_type": "text"
      },
      "source": [
        "## **CODE TO REMOVE NON-EMPTY FOLDER IN GOOGLE COLAB**"
      ]
    },
    {
      "cell_type": "code",
      "metadata": {
        "id": "e6RDXRyR1Wxz",
        "colab_type": "code",
        "colab": {}
      },
      "source": [
        "import shutil\n",
        "shutil.rmtree('/content/DL_PROJECT/PROJECT/DL_PROJECT_DATA/fake_ELA')\n",
        "shutil.rmtree('/content/DL_PROJECT/PROJECT/DL_PROJECT_DATA/fake_lowquality_JPG')"
      ],
      "execution_count": 0,
      "outputs": []
    }
  ]
}