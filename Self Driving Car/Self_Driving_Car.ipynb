{
  "nbformat": 4,
  "nbformat_minor": 0,
  "metadata": {
    "colab": {
      "name": "Self_Driving_Car-ORIG.ipynb",
      "provenance": [],
      "collapsed_sections": []
    },
    "kernelspec": {
      "name": "python3",
      "display_name": "Python 3"
    },
    "accelerator": "GPU"
  },
  "cells": [
    {
      "cell_type": "markdown",
      "metadata": {
        "id": "L5i2VEhiu-RJ",
        "colab_type": "text"
      },
      "source": [
        "## **PROBLEM STATEMENT**"
      ]
    },
    {
      "cell_type": "markdown",
      "metadata": {
        "id": "TonXbPFtvUvx",
        "colab_type": "text"
      },
      "source": [
        "**Autonomous Driving has been recent ingenious application of deeplearning. Many biggies like uber,nvidia,tesla,google are working on this application. A self-driving car has to identify/detect several things like roads, traffic signals, humans/vehicles. Having this the another most important task is to predict the steering angle of the car in accordance with the upcoming road turn. So, the problem statement concludes to, given an image of road ahead we need to predict the steering angle of the car.**"
      ]
    },
    {
      "cell_type": "markdown",
      "metadata": {
        "id": "LMWGOQs_u-Oq",
        "colab_type": "text"
      },
      "source": [
        "## **DATASET DESCRIPTION**"
      ]
    },
    {
      "cell_type": "markdown",
      "metadata": {
        "id": "7aCy_AAvu-MC",
        "colab_type": "text"
      },
      "source": [
        "**A total of 45,405 images have been captured using the front dashboard camera of the car (link can be found in the references section). Due to less computational power i have considered using only the first 10,000 images of which 9,000 images were used for training. 500 for validation, 500 for testing purposes.**"
      ]
    },
    {
      "cell_type": "markdown",
      "metadata": {
        "id": "d52UYEsou-D1",
        "colab_type": "text"
      },
      "source": [
        "## **EVALUATION METRIC USED**"
      ]
    },
    {
      "cell_type": "markdown",
      "metadata": {
        "id": "h-EHuosx0_3L",
        "colab_type": "text"
      },
      "source": [
        "**- Mean Squared Error (MSE)**"
      ]
    },
    {
      "cell_type": "markdown",
      "metadata": {
        "id": "UUP2474_0_zZ",
        "colab_type": "text"
      },
      "source": [
        "## **BASE-LINE MODELS  CONSIDERED**"
      ]
    },
    {
      "cell_type": "markdown",
      "metadata": {
        "id": "Qx5Ojr0Y0_vx",
        "colab_type": "text"
      },
      "source": [
        "**1. As most of the times road will be straighter, what if every predcition angle of steering is 0 degrees for any given image of the road.**\n",
        "\n",
        "**2. What if every prediction angle of steering for any given image of the road is mean of the steering angles present in the training dataset.**\n",
        "\n",
        "**3. So as no new thing, the deep learning models we implement should perform better than the above 2 random models**"
      ]
    },
    {
      "cell_type": "markdown",
      "metadata": {
        "id": "ImMzWy7ou-Jh",
        "colab_type": "text"
      },
      "source": [
        "## **DEEP LEARNING MODELS USED**"
      ]
    },
    {
      "cell_type": "markdown",
      "metadata": {
        "id": "nFMkDtqeu-Gd",
        "colab_type": "text"
      },
      "source": [
        "**1. CNN layers followed by dense layers with \"atan\" activation in the output layer.**\n",
        "\n",
        "**2. Transfer Learning - Using pre-trained weights of RESNET-50 with \"atan\" activation in the output layer**\n",
        "\n",
        "**- The motive behing using \"atan\" activation function is, the range of inverse tan (or atan) is from -90 to +90  which are the extremeties of steering angles for a car moving forward.**"
      ]
    },
    {
      "cell_type": "markdown",
      "metadata": {
        "id": "ZwdxtqfI0_oM",
        "colab_type": "text"
      },
      "source": [
        "## **MOUNTING THE GOOGLE DRIVE**"
      ]
    },
    {
      "cell_type": "code",
      "metadata": {
        "id": "xAd3BWboW3sB",
        "colab_type": "code",
        "colab": {
          "base_uri": "https://localhost:8080/",
          "height": 121
        },
        "outputId": "dc69bd16-484f-455e-90f9-1debb29d3207"
      },
      "source": [
        "from google.colab import drive\n",
        "drive.mount('/content/drive')"
      ],
      "execution_count": 1,
      "outputs": [
        {
          "output_type": "stream",
          "text": [
            "Go to this URL in a browser: https://accounts.google.com/o/oauth2/auth?client_id=947318989803-6bn6qk8qdgf4n4g3pfee6491hc0brc4i.apps.googleusercontent.com&redirect_uri=urn%3aietf%3awg%3aoauth%3a2.0%3aoob&response_type=code&scope=email%20https%3a%2f%2fwww.googleapis.com%2fauth%2fdocs.test%20https%3a%2f%2fwww.googleapis.com%2fauth%2fdrive%20https%3a%2f%2fwww.googleapis.com%2fauth%2fdrive.photos.readonly%20https%3a%2f%2fwww.googleapis.com%2fauth%2fpeopleapi.readonly\n",
            "\n",
            "Enter your authorization code:\n",
            "··········\n",
            "Mounted at /content/drive\n"
          ],
          "name": "stdout"
        }
      ]
    },
    {
      "cell_type": "markdown",
      "metadata": {
        "id": "JqX3qxTrMQYQ",
        "colab_type": "text"
      },
      "source": [
        "## **IMPORTING REQUIRED MODULES**"
      ]
    },
    {
      "cell_type": "code",
      "metadata": {
        "id": "Og7vNrjbL5El",
        "colab_type": "code",
        "colab": {
          "base_uri": "https://localhost:8080/",
          "height": 34
        },
        "outputId": "4df90a9a-91a5-4304-9997-e0382c3c8e54"
      },
      "source": [
        "import pandas as pd\n",
        "import warnings\n",
        "warnings.filterwarnings('ignore')\n",
        "import matplotlib.pyplot as plt\n",
        "import numpy as np\n",
        "import os\n",
        "from keras.models import Sequential\n",
        "from keras.layers import Conv2D\n",
        "from keras.layers import Dense\n",
        "from keras import metrics  \n",
        "from keras.layers import Flatten\n",
        "import tensorflow as tf\n",
        "import sys, os.path\n",
        "import glob\n",
        "import matplotlib\n",
        "import pickle\n",
        "from tqdm import tqdm\n",
        "import cv2\n",
        "import skimage.io as io\n",
        "import scipy\n",
        "import keras\n",
        "from keras.preprocessing import image\n",
        "from keras.layers import Dropout\n",
        "from keras.preprocessing.image import load_img\n",
        "from keras.layers.normalization import BatchNormalization\n",
        "from keras.initializers import he_normal\n",
        "from keras.callbacks import ModelCheckpoint, EarlyStopping\n",
        "from keras.models import load_model\n",
        "from sklearn import metrics\n",
        "from sklearn.model_selection import train_test_split\n",
        "from keras.applications.resnet import ResNet50\n",
        "from skimage.transform import resize\n",
        "from sklearn.metrics import mean_squared_error\n",
        "import seaborn as sb"
      ],
      "execution_count": 1,
      "outputs": [
        {
          "output_type": "stream",
          "text": [
            "Using TensorFlow backend.\n"
          ],
          "name": "stderr"
        }
      ]
    },
    {
      "cell_type": "markdown",
      "metadata": {
        "id": "8RU-vz62MV7a",
        "colab_type": "text"
      },
      "source": [
        "## **READING THE STEERING ANGLES DATA (IMAGE NAME VS STEERING ANGLE)**"
      ]
    },
    {
      "cell_type": "code",
      "metadata": {
        "id": "R8Jr43g8MPpi",
        "colab_type": "code",
        "colab": {}
      },
      "source": [
        "img_vs_ang = pd.read_csv(\"/content/drive/My Drive/My Summer Projects/Self_Driving_Car/data.txt\",delimiter=\" \",header=None,names=[\"Image_Name\",\"Angle_in_Degrees\"])"
      ],
      "execution_count": null,
      "outputs": []
    },
    {
      "cell_type": "code",
      "metadata": {
        "id": "LgAy3D9IMx5p",
        "colab_type": "code",
        "colab": {
          "base_uri": "https://localhost:8080/",
          "height": 195
        },
        "outputId": "23a1fae7-ee19-424c-b4b7-eb34da11f5ec"
      },
      "source": [
        "img_vs_ang.tail()"
      ],
      "execution_count": null,
      "outputs": [
        {
          "output_type": "execute_result",
          "data": {
            "text/html": [
              "<div>\n",
              "<style scoped>\n",
              "    .dataframe tbody tr th:only-of-type {\n",
              "        vertical-align: middle;\n",
              "    }\n",
              "\n",
              "    .dataframe tbody tr th {\n",
              "        vertical-align: top;\n",
              "    }\n",
              "\n",
              "    .dataframe thead th {\n",
              "        text-align: right;\n",
              "    }\n",
              "</style>\n",
              "<table border=\"1\" class=\"dataframe\">\n",
              "  <thead>\n",
              "    <tr style=\"text-align: right;\">\n",
              "      <th></th>\n",
              "      <th>Image_Name</th>\n",
              "      <th>Angle_in_Degrees</th>\n",
              "    </tr>\n",
              "  </thead>\n",
              "  <tbody>\n",
              "    <tr>\n",
              "      <th>45401</th>\n",
              "      <td>45401.jpg</td>\n",
              "      <td>2.22</td>\n",
              "    </tr>\n",
              "    <tr>\n",
              "      <th>45402</th>\n",
              "      <td>45402.jpg</td>\n",
              "      <td>2.22</td>\n",
              "    </tr>\n",
              "    <tr>\n",
              "      <th>45403</th>\n",
              "      <td>45403.jpg</td>\n",
              "      <td>2.22</td>\n",
              "    </tr>\n",
              "    <tr>\n",
              "      <th>45404</th>\n",
              "      <td>45404.jpg</td>\n",
              "      <td>2.22</td>\n",
              "    </tr>\n",
              "    <tr>\n",
              "      <th>45405</th>\n",
              "      <td>45405.jpg</td>\n",
              "      <td>0.00</td>\n",
              "    </tr>\n",
              "  </tbody>\n",
              "</table>\n",
              "</div>"
            ],
            "text/plain": [
              "      Image_Name  Angle_in_Degrees\n",
              "45401  45401.jpg              2.22\n",
              "45402  45402.jpg              2.22\n",
              "45403  45403.jpg              2.22\n",
              "45404  45404.jpg              2.22\n",
              "45405  45405.jpg              0.00"
            ]
          },
          "metadata": {
            "tags": []
          },
          "execution_count": 3
        }
      ]
    },
    {
      "cell_type": "markdown",
      "metadata": {
        "id": "gDCcCJAwPIBh",
        "colab_type": "text"
      },
      "source": [
        "## **CONVERTING THE STEERING ANGLES IN DEGREES TO RADIANS (TO OBTAIN A LIMITED RANGE OF NUMBERS)**"
      ]
    },
    {
      "cell_type": "code",
      "metadata": {
        "id": "Jd3koUn7PCC3",
        "colab_type": "code",
        "colab": {
          "base_uri": "https://localhost:8080/",
          "height": 195
        },
        "outputId": "18ea221d-4c50-4908-ae15-52334f4aa0dc"
      },
      "source": [
        "pi = (22/7)\n",
        "for i in range(len(img_vs_ang)):\n",
        "  img_vs_ang.iloc[i,1] = float(img_vs_ang.iloc[i,1]) * (pi/180)\n",
        "img_vs_ang.tail()"
      ],
      "execution_count": null,
      "outputs": [
        {
          "output_type": "execute_result",
          "data": {
            "text/html": [
              "<div>\n",
              "<style scoped>\n",
              "    .dataframe tbody tr th:only-of-type {\n",
              "        vertical-align: middle;\n",
              "    }\n",
              "\n",
              "    .dataframe tbody tr th {\n",
              "        vertical-align: top;\n",
              "    }\n",
              "\n",
              "    .dataframe thead th {\n",
              "        text-align: right;\n",
              "    }\n",
              "</style>\n",
              "<table border=\"1\" class=\"dataframe\">\n",
              "  <thead>\n",
              "    <tr style=\"text-align: right;\">\n",
              "      <th></th>\n",
              "      <th>Image_Name</th>\n",
              "      <th>Angle_in_Degrees</th>\n",
              "    </tr>\n",
              "  </thead>\n",
              "  <tbody>\n",
              "    <tr>\n",
              "      <th>45401</th>\n",
              "      <td>45401.jpg</td>\n",
              "      <td>0.038762</td>\n",
              "    </tr>\n",
              "    <tr>\n",
              "      <th>45402</th>\n",
              "      <td>45402.jpg</td>\n",
              "      <td>0.038762</td>\n",
              "    </tr>\n",
              "    <tr>\n",
              "      <th>45403</th>\n",
              "      <td>45403.jpg</td>\n",
              "      <td>0.038762</td>\n",
              "    </tr>\n",
              "    <tr>\n",
              "      <th>45404</th>\n",
              "      <td>45404.jpg</td>\n",
              "      <td>0.038762</td>\n",
              "    </tr>\n",
              "    <tr>\n",
              "      <th>45405</th>\n",
              "      <td>45405.jpg</td>\n",
              "      <td>0.000000</td>\n",
              "    </tr>\n",
              "  </tbody>\n",
              "</table>\n",
              "</div>"
            ],
            "text/plain": [
              "      Image_Name  Angle_in_Degrees\n",
              "45401  45401.jpg          0.038762\n",
              "45402  45402.jpg          0.038762\n",
              "45403  45403.jpg          0.038762\n",
              "45404  45404.jpg          0.038762\n",
              "45405  45405.jpg          0.000000"
            ]
          },
          "metadata": {
            "tags": []
          },
          "execution_count": 4
        }
      ]
    },
    {
      "cell_type": "code",
      "metadata": {
        "id": "Gr8i0beRR0mo",
        "colab_type": "code",
        "colab": {
          "base_uri": "https://localhost:8080/",
          "height": 195
        },
        "outputId": "b49a8577-ba1c-446c-bcd4-ba30f842f6b7"
      },
      "source": [
        "img_vs_ang.head()"
      ],
      "execution_count": null,
      "outputs": [
        {
          "output_type": "execute_result",
          "data": {
            "text/html": [
              "<div>\n",
              "<style scoped>\n",
              "    .dataframe tbody tr th:only-of-type {\n",
              "        vertical-align: middle;\n",
              "    }\n",
              "\n",
              "    .dataframe tbody tr th {\n",
              "        vertical-align: top;\n",
              "    }\n",
              "\n",
              "    .dataframe thead th {\n",
              "        text-align: right;\n",
              "    }\n",
              "</style>\n",
              "<table border=\"1\" class=\"dataframe\">\n",
              "  <thead>\n",
              "    <tr style=\"text-align: right;\">\n",
              "      <th></th>\n",
              "      <th>Image_Name</th>\n",
              "      <th>Angle_in_Degrees</th>\n",
              "    </tr>\n",
              "  </thead>\n",
              "  <tbody>\n",
              "    <tr>\n",
              "      <th>0</th>\n",
              "      <td>0.jpg</td>\n",
              "      <td>0.0</td>\n",
              "    </tr>\n",
              "    <tr>\n",
              "      <th>1</th>\n",
              "      <td>1.jpg</td>\n",
              "      <td>0.0</td>\n",
              "    </tr>\n",
              "    <tr>\n",
              "      <th>2</th>\n",
              "      <td>2.jpg</td>\n",
              "      <td>0.0</td>\n",
              "    </tr>\n",
              "    <tr>\n",
              "      <th>3</th>\n",
              "      <td>3.jpg</td>\n",
              "      <td>0.0</td>\n",
              "    </tr>\n",
              "    <tr>\n",
              "      <th>4</th>\n",
              "      <td>4.jpg</td>\n",
              "      <td>0.0</td>\n",
              "    </tr>\n",
              "  </tbody>\n",
              "</table>\n",
              "</div>"
            ],
            "text/plain": [
              "  Image_Name  Angle_in_Degrees\n",
              "0      0.jpg               0.0\n",
              "1      1.jpg               0.0\n",
              "2      2.jpg               0.0\n",
              "3      3.jpg               0.0\n",
              "4      4.jpg               0.0"
            ]
          },
          "metadata": {
            "tags": []
          },
          "execution_count": 5
        }
      ]
    },
    {
      "cell_type": "markdown",
      "metadata": {
        "id": "sVFY_0_TQ7P2",
        "colab_type": "text"
      },
      "source": [
        "## **READING THE IMAGES AND ALIGNING THEM WITH CORRESPONDING ANGLES**"
      ]
    },
    {
      "cell_type": "code",
      "metadata": {
        "id": "CoNJV3TuDo-z",
        "colab_type": "code",
        "colab": {
          "base_uri": "https://localhost:8080/",
          "height": 34
        },
        "outputId": "0eee0c10-2e7f-447f-989d-6320cedb419a"
      },
      "source": [
        "path=\"/content/drive/My Drive/My Summer Projects/Self_Driving_Car/dataset/5000-9999\"\n",
        "count_images = next(os.walk(path+\"/\"))[2] # list of names all images in the given path\n",
        "print(\"Count of Images::\", len(count_images))"
      ],
      "execution_count": null,
      "outputs": [
        {
          "output_type": "stream",
          "text": [
            "Count of Images:: 5000\n"
          ],
          "name": "stdout"
        }
      ]
    },
    {
      "cell_type": "code",
      "metadata": {
        "id": "T71-4HzDQfN3",
        "colab_type": "code",
        "colab": {}
      },
      "source": [
        "def read_images(path,start,end,flag):\n",
        "  #img_data=pd.DataFrame(columns=[\"image\",\"radian_angle\"],)\n",
        "  if(flag==0):\n",
        "    img_data = np.zeros((5000,66,200,3), dtype=np.float)\n",
        "    img_angles = np.zeros((5000,1))\n",
        "  else:\n",
        "    img_data = np.zeros((5406,66,200,3), dtype=np.float)\n",
        "    img_angles = np.zeros((5406,1))\n",
        "  row=0\n",
        "  for i in tqdm(range(start,end),leave=True,position=0):\n",
        "    img_name = img_vs_ang.iloc[i,0]\n",
        "    img_angle = img_vs_ang.iloc[i,1]\n",
        "    im = load_img(path+\"/\"+img_name)\n",
        "    conv_img = image.img_to_array(im,data_format=\"channels_last\") \n",
        "    #keeping the color-channel at the end in the representation of image vector\n",
        "    conv_img = resize(conv_img,(66,200,3)) \n",
        "    ## resizing image to 66x200 size\n",
        "    conv_img = conv_img/255 \n",
        "    # performing the min-max normalization\n",
        "    #img_data.loc[i] = [conv_img,img_angle]\n",
        "    img_data[row] = conv_img\n",
        "    img_angles[row] = img_angle\n",
        "    row+=1 \n",
        "  return img_data,img_angles"
      ],
      "execution_count": null,
      "outputs": []
    },
    {
      "cell_type": "code",
      "metadata": {
        "id": "EfKqUlNQRnoC",
        "colab_type": "code",
        "colab": {
          "base_uri": "https://localhost:8080/",
          "height": 34
        },
        "outputId": "43d755b7-9237-4669-d3f7-7fad33ec2c3d"
      },
      "source": [
        "data_0to4999,data_0to4999_angles = read_images(\"/content/drive/My Drive/My Summer Projects/Self_Driving_Car/dataset/0-4999\",0,5000,0)"
      ],
      "execution_count": null,
      "outputs": [
        {
          "output_type": "stream",
          "text": [
            "100%|██████████| 5000/5000 [24:40<00:00,  3.38it/s]\n"
          ],
          "name": "stderr"
        }
      ]
    },
    {
      "cell_type": "code",
      "metadata": {
        "id": "ZXpCoCdOrfEK",
        "colab_type": "code",
        "colab": {}
      },
      "source": [
        "'''np.save(\"/content/drive/My Drive/My Summer Projects/Self_Driving_Car/data_0to4999.npy\",data_0to4999)\n",
        "np.save(\"/content/drive/My Drive/My Summer Projects/Self_Driving_Car/data_0to4999_angles.npy\",data_0to4999_angles)'''"
      ],
      "execution_count": null,
      "outputs": []
    },
    {
      "cell_type": "code",
      "metadata": {
        "id": "J8WyrZsMzPIK",
        "colab_type": "code",
        "colab": {
          "base_uri": "https://localhost:8080/",
          "height": 34
        },
        "outputId": "09e6462a-e9a5-47a5-f608-a5f1fb97271c"
      },
      "source": [
        "data_5000to9999,data_5000to9999_angles = read_images(\"/content/drive/My Drive/My Summer Projects/Self_Driving_Car/dataset/5000-9999\",5000,10000,0)"
      ],
      "execution_count": null,
      "outputs": [
        {
          "output_type": "stream",
          "text": [
            "100%|██████████| 5000/5000 [26:56<00:00,  3.09it/s]\n"
          ],
          "name": "stderr"
        }
      ]
    },
    {
      "cell_type": "code",
      "metadata": {
        "id": "R_a_YFaSzePp",
        "colab_type": "code",
        "colab": {}
      },
      "source": [
        "'''np.save(\"/content/drive/My Drive/My Summer Projects/Self_Driving_Car/data_5000to9999.npy\",data_5000to9999)\n",
        "np.save(\"/content/drive/My Drive/My Summer Projects/Self_Driving_Car/data_5000to9999_angles.npy\",data_5000to9999_angles)'''"
      ],
      "execution_count": null,
      "outputs": []
    },
    {
      "cell_type": "code",
      "metadata": {
        "id": "qgk-IAB_2-1X",
        "colab_type": "code",
        "colab": {
          "base_uri": "https://localhost:8080/",
          "height": 34
        },
        "outputId": "4f96361a-ebbb-487d-b90c-8e328172df4c"
      },
      "source": [
        "data_10000to14999,data_10000to14999_angles = read_images(\"/content/drive/My Drive/My Summer Projects/Self_Driving_Car/dataset/10000-14999\",10000,15000,0)"
      ],
      "execution_count": null,
      "outputs": [
        {
          "output_type": "stream",
          "text": [
            "100%|██████████| 5000/5000 [24:34<00:00,  3.39it/s]\n"
          ],
          "name": "stderr"
        }
      ]
    },
    {
      "cell_type": "code",
      "metadata": {
        "id": "TFz3pZDy0lsp",
        "colab_type": "code",
        "colab": {}
      },
      "source": [
        "'''np.save(\"/content/drive/My Drive/My Summer Projects/Self_Driving_Car/data_10000to14999.npy\",data_10000to14999)\n",
        "np.save(\"/content/drive/My Drive/My Summer Projects/Self_Driving_Car/data_10000to14999_angles.npy\",data_10000to14999_angles)'''"
      ],
      "execution_count": null,
      "outputs": []
    },
    {
      "cell_type": "code",
      "metadata": {
        "id": "oIURYrBd2-xj",
        "colab_type": "code",
        "colab": {
          "base_uri": "https://localhost:8080/",
          "height": 34
        },
        "outputId": "d4192c0c-f865-4542-bb06-8c7a29d8dea6"
      },
      "source": [
        "data_15000to19999,data_15000to19999_angles = read_images(\"/content/drive/My Drive/My Summer Projects/Self_Driving_Car/dataset/15000-19999\",15000,20000,0)"
      ],
      "execution_count": null,
      "outputs": [
        {
          "output_type": "stream",
          "text": [
            "100%|██████████| 5000/5000 [24:51<00:00,  3.35it/s]\n"
          ],
          "name": "stderr"
        }
      ]
    },
    {
      "cell_type": "code",
      "metadata": {
        "id": "EAXrSHl87reA",
        "colab_type": "code",
        "colab": {}
      },
      "source": [
        "'''np.save(\"/content/drive/My Drive/My Summer Projects/Self_Driving_Car/data_15000to19999.npy\",data_15000to19999)\n",
        "np.save(\"/content/drive/My Drive/My Summer Projects/Self_Driving_Car/data_15000to19999_angles.npy\",data_15000to19999_angles)'''"
      ],
      "execution_count": null,
      "outputs": []
    },
    {
      "cell_type": "code",
      "metadata": {
        "id": "sI_FYmE53-Tr",
        "colab_type": "code",
        "colab": {
          "base_uri": "https://localhost:8080/",
          "height": 34
        },
        "outputId": "fd668284-04a8-4957-c00a-988323d4dd02"
      },
      "source": [
        "data_20000to24999,data_20000to24999_angles = read_images(\"/content/drive/My Drive/My Summer Projects/Self_Driving_Car/dataset/20000-24999\",20000,25000,0)"
      ],
      "execution_count": null,
      "outputs": [
        {
          "output_type": "stream",
          "text": [
            "100%|██████████| 5000/5000 [25:52<00:00,  3.22it/s]\n"
          ],
          "name": "stderr"
        }
      ]
    },
    {
      "cell_type": "code",
      "metadata": {
        "id": "5ALIpRe8HC6Y",
        "colab_type": "code",
        "colab": {}
      },
      "source": [
        "'''np.save(\"/content/drive/My Drive/My Summer Projects/Self_Driving_Car/data_20000to24999.npy\",data_20000to24999)\n",
        "np.save(\"/content/drive/My Drive/My Summer Projects/Self_Driving_Car/data_20000to24999_angles.npy\",data_20000to24999_angles)'''"
      ],
      "execution_count": null,
      "outputs": []
    },
    {
      "cell_type": "code",
      "metadata": {
        "id": "iIbViT8J4H9L",
        "colab_type": "code",
        "colab": {
          "base_uri": "https://localhost:8080/",
          "height": 34
        },
        "outputId": "ccd290e2-4f2d-4dfb-f98d-db294f10878b"
      },
      "source": [
        "data_25000to29999 = read_images(\"/content/drive/My Drive/My Summer Projects/Self_Driving_Car/dataset/25000-29999\",25000,30000,0)"
      ],
      "execution_count": null,
      "outputs": [
        {
          "output_type": "stream",
          "text": [
            "100%|██████████| 5000/5000 [58:15<00:00,  1.43it/s]\n"
          ],
          "name": "stderr"
        }
      ]
    },
    {
      "cell_type": "code",
      "metadata": {
        "id": "GFlVmwr0IYgA",
        "colab_type": "code",
        "colab": {}
      },
      "source": [
        "'''np.save(\"/content/drive/My Drive/My Summer Projects/Self_Driving_Car/data_25000to29999.npy\",data_25000to29999)\n",
        "np.save(\"/content/drive/My Drive/My Summer Projects/Self_Driving_Car/data_25000to29999_angles.npy\",data_25000to29999_angles)'''"
      ],
      "execution_count": null,
      "outputs": []
    },
    {
      "cell_type": "code",
      "metadata": {
        "id": "GaIKruwV4SlW",
        "colab_type": "code",
        "colab": {
          "base_uri": "https://localhost:8080/",
          "height": 34
        },
        "outputId": "4d5c7e3c-3757-4903-f11b-966de7334f62"
      },
      "source": [
        "data_30000to34999 = read_images(\"/content/drive/My Drive/My Summer Projects/Self_Driving_Car/dataset/30000-34999\",30000,35000,0)"
      ],
      "execution_count": null,
      "outputs": [
        {
          "output_type": "stream",
          "text": [
            "100%|██████████| 5000/5000 [57:16<00:00,  1.45it/s]\n"
          ],
          "name": "stderr"
        }
      ]
    },
    {
      "cell_type": "code",
      "metadata": {
        "id": "U26uA7X5ImQA",
        "colab_type": "code",
        "colab": {}
      },
      "source": [
        "'''np.save(\"/content/drive/My Drive/My Summer Projects/Self_Driving_Car/data_30000to34999.npy\",data_30000to34999)\n",
        "np.save(\"/content/drive/My Drive/My Summer Projects/Self_Driving_Car/data_30000to34999_angles.npy\",data_30000to34999_angles)'''"
      ],
      "execution_count": null,
      "outputs": []
    },
    {
      "cell_type": "code",
      "metadata": {
        "id": "vT4TYAVW4dlJ",
        "colab_type": "code",
        "colab": {
          "base_uri": "https://localhost:8080/",
          "height": 34
        },
        "outputId": "7cf1d0df-eb10-4720-c3b6-8659aba69fbb"
      },
      "source": [
        "data_35000to39999 = read_images(\"/content/drive/My Drive/My Summer Projects/Self_Driving_Car/dataset/35000-39999\",35000,40000,0)"
      ],
      "execution_count": null,
      "outputs": [
        {
          "output_type": "stream",
          "text": [
            "100%|██████████| 5000/5000 [35:59<00:00,  2.32it/s]\n"
          ],
          "name": "stderr"
        }
      ]
    },
    {
      "cell_type": "code",
      "metadata": {
        "id": "daOyiLg24sYD",
        "colab_type": "code",
        "colab": {}
      },
      "source": [
        "'''np.save(\"/content/drive/My Drive/My Summer Projects/Self_Driving_Car/data_35000to39999.npy\",data_35000to39999)\n",
        "np.save(\"/content/drive/My Drive/My Summer Projects/Self_Driving_Car/data_35000to39999_angles.npy\",data_35000to39999_angles)'''"
      ],
      "execution_count": null,
      "outputs": []
    },
    {
      "cell_type": "code",
      "metadata": {
        "id": "qhFEHH0h4nZx",
        "colab_type": "code",
        "colab": {
          "base_uri": "https://localhost:8080/",
          "height": 34
        },
        "outputId": "7fc9e5ff-aa45-4c33-de8c-7590a91cf968"
      },
      "source": [
        "data_40000to45405 = read_images(\"/content/drive/My Drive/My Summer Projects/Self_Driving_Car/dataset/40000-45405\",40000,45406,1)"
      ],
      "execution_count": null,
      "outputs": [
        {
          "output_type": "stream",
          "text": [
            "100%|██████████| 5406/5406 [40:11<00:00,  2.24it/s]\n"
          ],
          "name": "stderr"
        }
      ]
    },
    {
      "cell_type": "code",
      "metadata": {
        "id": "cJsLrDHrB_ZB",
        "colab_type": "code",
        "colab": {}
      },
      "source": [
        "'''np.save(\"/content/drive/My Drive/My Summer Projects/Self_Driving_Car/data_40000to45405.npy\",data_40000to45405)\n",
        "np.save(\"/content/drive/My Drive/My Summer Projects/Self_Driving_Car/data_40000to45405_angles.npy\",data_40000to45405_angles)'''"
      ],
      "execution_count": null,
      "outputs": []
    },
    {
      "cell_type": "markdown",
      "metadata": {
        "id": "AIAKr0ROJnss",
        "colab_type": "text"
      },
      "source": [
        "## **LOADING THE SAVED FILES**"
      ]
    },
    {
      "cell_type": "code",
      "metadata": {
        "id": "WM9VE6IpJmuu",
        "colab_type": "code",
        "colab": {}
      },
      "source": [
        "data_0to4999 = np.load(\"/content/drive/My Drive/My Summer Projects/Self_Driving_Car/data_0to4999.npy\")\n",
        "data_0to4999_angles = np.load(\"/content/drive/My Drive/My Summer Projects/Self_Driving_Car/data_0to4999_angles.npy\")"
      ],
      "execution_count": 2,
      "outputs": []
    },
    {
      "cell_type": "code",
      "metadata": {
        "id": "T7NVVFwIE52z",
        "colab_type": "code",
        "colab": {}
      },
      "source": [
        "data_5000to9999 = np.load(\"/content/drive/My Drive/My Summer Projects/Self_Driving_Car/data_5000to9999.npy\")\n",
        "data_5000to9999_angles = np.load(\"/content/drive/My Drive/My Summer Projects/Self_Driving_Car/data_5000to9999_angles.npy\")"
      ],
      "execution_count": 3,
      "outputs": []
    },
    {
      "cell_type": "code",
      "metadata": {
        "id": "b86SRhEDE5xc",
        "colab_type": "code",
        "colab": {}
      },
      "source": [
        "'''data_10000to14999 = np.load(\"/content/drive/My Drive/My Summer Projects/Self_Driving_Car/data_10000to14999.npy\")\n",
        "data_10000to14999_angles = np.load(\"/content/drive/My Drive/My Summer Projects/Self_Driving_Car/data_10000to14999_angles.npy\")'''"
      ],
      "execution_count": null,
      "outputs": []
    },
    {
      "cell_type": "code",
      "metadata": {
        "id": "cjnNI64QE5rX",
        "colab_type": "code",
        "colab": {}
      },
      "source": [
        "'''data_15000to19999 = np.load(\"/content/drive/My Drive/My Summer Projects/Self_Driving_Car/data_15000to19999.npy\")\n",
        "data_15000to19999_angles = np.load(\"/content/drive/My Drive/My Summer Projects/Self_Driving_Car/data_15000to19999_angles.npy\")'''"
      ],
      "execution_count": null,
      "outputs": []
    },
    {
      "cell_type": "code",
      "metadata": {
        "id": "xtT9hHbdE5kj",
        "colab_type": "code",
        "colab": {}
      },
      "source": [
        "'''data_20000to24999 = np.load(\"/content/drive/My Drive/My Summer Projects/Self_Driving_Car/data_20000to24999.npy\")\n",
        "data_20000to24999_angles = np.load(\"/content/drive/My Drive/My Summer Projects/Self_Driving_Car/data_20000to24999_angles.npy\")'''"
      ],
      "execution_count": null,
      "outputs": []
    },
    {
      "cell_type": "markdown",
      "metadata": {
        "id": "7PsLqcERoLCu",
        "colab_type": "text"
      },
      "source": [
        "## **CONCATENATING ALL THE ARRAYS INTO ONE**"
      ]
    },
    {
      "cell_type": "code",
      "metadata": {
        "id": "i4FCzFUloJUB",
        "colab_type": "code",
        "colab": {
          "base_uri": "https://localhost:8080/",
          "height": 50
        },
        "outputId": "323c0d45-37e8-433d-fe5a-4d5a8014538a"
      },
      "source": [
        "x_data = np.concatenate((data_0to4999, data_5000to9999), axis=0)\n",
        "y_data = np.concatenate((data_0to4999_angles, data_5000to9999_angles), axis=0)\n",
        "print(\"Shape of X_data::\",x_data.shape)\n",
        "print(\"Shape of y_data::\",y_data.shape)"
      ],
      "execution_count": 4,
      "outputs": [
        {
          "output_type": "stream",
          "text": [
            "Shape of X_data:: (10000, 66, 200, 3)\n",
            "Shape of y_data:: (10000, 1)\n"
          ],
          "name": "stdout"
        }
      ]
    },
    {
      "cell_type": "markdown",
      "metadata": {
        "id": "3rH78Z8YepQk",
        "colab_type": "text"
      },
      "source": [
        "## **PERFORMING TRAIN-CV-TEST SPLIT**"
      ]
    },
    {
      "cell_type": "code",
      "metadata": {
        "id": "kH-5SfgVetMb",
        "colab_type": "code",
        "colab": {
          "base_uri": "https://localhost:8080/",
          "height": 118
        },
        "outputId": "0c22a881-6bfe-4290-b132-847184d23df5"
      },
      "source": [
        "x_train,x_cv,y_train,y_cv = train_test_split(x_data,y_data,train_size=0.90,shuffle=False)\n",
        "x_cv,x_test,y_cv,y_test = train_test_split(x_cv,y_cv,train_size=0.50,shuffle=False)\n",
        "print(\"Shape of x train::\",x_train.shape)\n",
        "print(\"Shape of x cv::\",x_cv.shape)\n",
        "print(\"Shape of x test::\",x_test.shape)\n",
        "print(\"Shape of y train::\",y_train.shape)\n",
        "print(\"Shape of y cv::\",y_cv.shape)\n",
        "print(\"Shape of y test::\",y_test.shape)"
      ],
      "execution_count": 5,
      "outputs": [
        {
          "output_type": "stream",
          "text": [
            "Shape of x train:: (9000, 66, 200, 3)\n",
            "Shape of x cv:: (500, 66, 200, 3)\n",
            "Shape of x test:: (500, 66, 200, 3)\n",
            "Shape of y train:: (9000, 1)\n",
            "Shape of y cv:: (500, 1)\n",
            "Shape of y test:: (500, 1)\n"
          ],
          "name": "stdout"
        }
      ]
    },
    {
      "cell_type": "markdown",
      "metadata": {
        "id": "ii3ctVr22yi6",
        "colab_type": "text"
      },
      "source": [
        "## **VISUALIZATION OF SAMPLE IMAGE CAPTURED BY DASHBOARD CAMERA OF CAR**"
      ]
    },
    {
      "cell_type": "code",
      "metadata": {
        "id": "579LbNFE1iq4",
        "colab_type": "code",
        "colab": {
          "base_uri": "https://localhost:8080/",
          "height": 213
        },
        "outputId": "344d908b-f1a5-41ff-c93e-5d3721eb3c1c"
      },
      "source": [
        "k=500\n",
        "plt.imshow(x_train[k])\n",
        "plt.show()\n",
        "print(\"\\n\")\n",
        "print(\"--> Steering Angle Corresponding to above image (In Radians)::\",y_train[k])"
      ],
      "execution_count": null,
      "outputs": [
        {
          "output_type": "display_data",
          "data": {
            "image/png": "[encoded data removed]",
            "text/plain": [
              "<Figure size 432x288 with 1 Axes>"
            ]
          },
          "metadata": {
            "tags": [],
            "needs_background": "light"
          }
        },
        {
          "output_type": "stream",
          "text": [
            "\n",
            "\n",
            "--> Steering Angle Corresponding to above image (In Radians):: [-1.7325873]\n"
          ],
          "name": "stdout"
        }
      ]
    },
    {
      "cell_type": "markdown",
      "metadata": {
        "id": "dFHF8rxp0PR6",
        "colab_type": "text"
      },
      "source": [
        "## **DISTRIBUTION OF STEERING ANGLES IN THE TRAINING DATASET VS CV DATASET**"
      ]
    },
    {
      "cell_type": "code",
      "metadata": {
        "id": "hGB2rWwkzO0S",
        "colab_type": "code",
        "colab": {
          "base_uri": "https://localhost:8080/",
          "height": 265
        },
        "outputId": "e8fa69b2-a14b-4086-bf5f-b78cb50c24c5"
      },
      "source": [
        "sb.distplot(y_train,label=\"Training Data\")\n",
        "sb.distplot(y_cv,label=\"CV Data\")\n",
        "plt.legend()\n",
        "plt.show()"
      ],
      "execution_count": null,
      "outputs": [
        {
          "output_type": "display_data",
          "data": {
            "image/png": "[encoded data removed]",
            "text/plain": [
              "<Figure size 432x288 with 1 Axes>"
            ]
          },
          "metadata": {
            "tags": [],
            "needs_background": "light"
          }
        }
      ]
    },
    {
      "cell_type": "markdown",
      "metadata": {
        "id": "ZqPpzITpHb7m",
        "colab_type": "text"
      },
      "source": [
        "## **APPLYING FEW BASE-LINE MODELS**"
      ]
    },
    {
      "cell_type": "markdown",
      "metadata": {
        "id": "aj6WXpBAH1e-",
        "colab_type": "text"
      },
      "source": [
        "#### **MEAN SQUARED ERROR IF EVERY PREDICTED ANGLE IS ZERO**"
      ]
    },
    {
      "cell_type": "code",
      "metadata": {
        "id": "M8IyC_HxIlnz",
        "colab_type": "code",
        "colab": {
          "base_uri": "https://localhost:8080/",
          "height": 34
        },
        "outputId": "ba5dd1fa-6e6f-482f-e406-f955388eb71e"
      },
      "source": [
        "preds = []\n",
        "for i in range(500):\n",
        "  preds.append(0)\n",
        "print(\"Mean Squared Loss if every predicted angle is zero::\",mean_squared_error(y_cv,preds))"
      ],
      "execution_count": null,
      "outputs": [
        {
          "output_type": "stream",
          "text": [
            "Mean Squared Loss if every predicted angle is zero:: 0.12294541842781558\n"
          ],
          "name": "stdout"
        }
      ]
    },
    {
      "cell_type": "markdown",
      "metadata": {
        "id": "BjDaBfM3HgfH",
        "colab_type": "text"
      },
      "source": [
        "#### **MEAN SQUARED ERROR ON CV DATA IF EVERY PREDICTED ANGLE IS MEAN OF STEERING ANGLES OF TRAINING DATA**"
      ]
    },
    {
      "cell_type": "code",
      "metadata": {
        "id": "BMe2ccBlH0Wa",
        "colab_type": "code",
        "colab": {
          "base_uri": "https://localhost:8080/",
          "height": 50
        },
        "outputId": "85bde305-b28f-499f-ea8b-3e78fc7c6362"
      },
      "source": [
        "train_mean = np.mean(y_train)\n",
        "print(\"Mean of Steering Angles of Training Data::\",train_mean)\n",
        "preds = []\n",
        "for i in range(500):\n",
        "  preds.append(train_mean)\n",
        "print(\"Mean Squared Loss if every predicted angle is mean of steering angles in training data::\",mean_squared_error(y_cv,preds))"
      ],
      "execution_count": null,
      "outputs": [
        {
          "output_type": "stream",
          "text": [
            "Mean of Steering Angles of Training Data:: 0.1497140158730159\n",
            "Mean Squared Loss if every predicted angle is mean of steering angles in training data:: 0.05726586778225875\n"
          ],
          "name": "stdout"
        }
      ]
    },
    {
      "cell_type": "markdown",
      "metadata": {
        "id": "YNUtAXwEe_Uq",
        "colab_type": "text"
      },
      "source": [
        "#### **Thus, The Deep Learning Model we gonna implement should have MSE less than 0.05726586778225875** "
      ]
    },
    {
      "cell_type": "markdown",
      "metadata": {
        "id": "3CZPD3HrnqA_",
        "colab_type": "text"
      },
      "source": [
        "## **THE CNN ARCHITECTURE**"
      ]
    },
    {
      "cell_type": "markdown",
      "metadata": {
        "id": "g1QcfWuHbh9P",
        "colab_type": "text"
      },
      "source": [
        "#### **CODE TO SAVE MODEL AFTER EVERY EPOCH**"
      ]
    },
    {
      "cell_type": "code",
      "metadata": {
        "id": "fOTwgQmZYRMt",
        "colab_type": "code",
        "colab": {}
      },
      "source": [
        "#ref:https://stackoverflow.com/questions/54323960/save-keras-model-at-specific-epochs\n",
        "class CustomSaver(keras.callbacks.Callback):\n",
        "  def on_epoch_end(self, epoch, logs={}):\n",
        "    self.model.save(\"/content/drive/My Drive/My Summer Projects/Self_Driving_Car/saved_models/model_{}.hd5\".format(epoch))"
      ],
      "execution_count": null,
      "outputs": []
    },
    {
      "cell_type": "markdown",
      "metadata": {
        "id": "B0OU5P2YbuW8",
        "colab_type": "text"
      },
      "source": [
        "#### **THE ARCHITECTURE**"
      ]
    },
    {
      "cell_type": "code",
      "metadata": {
        "id": "qcEQ96NnNTy-",
        "colab_type": "code",
        "colab": {
          "base_uri": "https://localhost:8080/",
          "height": 386
        },
        "outputId": "1f7d026b-e136-4bd8-ccd7-6d6a75c07b94"
      },
      "source": [
        "saver = CustomSaver()\n",
        "model = Sequential()\n",
        "model.add(Conv2D(64, (3, 3),activation=\"relu\",strides=2,kernel_initializer='he_normal',input_shape=(66,200,3)))\n",
        "model.add(Conv2D(64, (3, 3),activation=\"relu\",kernel_initializer='he_normal',strides=2))\n",
        "model.add(Flatten())\n",
        "model.add(Dense(64,activation='relu'))\n",
        "model.add(Dense(1,activation=tf.atan))\n",
        "model.compile(loss = keras.losses.mean_squared_error,optimizer = keras.optimizers.Adam(lr=0.01))\n",
        "model.fit(x_train,y_train,batch_size=10,epochs=10,validation_data=(x_cv,y_cv),callbacks=[saver]) "
      ],
      "execution_count": null,
      "outputs": [
        {
          "output_type": "stream",
          "text": [
            "Train on 9000 samples, validate on 500 samples\n",
            "Epoch 1/10\n",
            "9000/9000 [==============================] - 90s 10ms/step - loss: 2.1554 - val_loss: 0.0544\n",
            "Epoch 2/10\n",
            "9000/9000 [==============================] - 90s 10ms/step - loss: 0.6453 - val_loss: 0.0642\n",
            "Epoch 3/10\n",
            "9000/9000 [==============================] - 91s 10ms/step - loss: 0.6436 - val_loss: 0.0732\n",
            "Epoch 4/10\n",
            "9000/9000 [==============================] - 90s 10ms/step - loss: 0.6446 - val_loss: 0.0466\n",
            "Epoch 5/10\n",
            "9000/9000 [==============================] - 91s 10ms/step - loss: 0.6445 - val_loss: 0.0589\n",
            "Epoch 6/10\n",
            "9000/9000 [==============================] - 90s 10ms/step - loss: 0.6444 - val_loss: 0.0776\n",
            "Epoch 7/10\n",
            "9000/9000 [==============================] - 91s 10ms/step - loss: 0.6444 - val_loss: 0.0535\n",
            "Epoch 8/10\n",
            "9000/9000 [==============================] - 91s 10ms/step - loss: 0.6441 - val_loss: 0.0852\n",
            "Epoch 9/10\n",
            "9000/9000 [==============================] - 92s 10ms/step - loss: 0.6444 - val_loss: 0.0597\n",
            "Epoch 10/10\n",
            "9000/9000 [==============================] - 92s 10ms/step - loss: 0.6447 - val_loss: 0.0686\n"
          ],
          "name": "stdout"
        },
        {
          "output_type": "execute_result",
          "data": {
            "text/plain": [
              "<keras.callbacks.callbacks.History at 0x7f581998b9b0>"
            ]
          },
          "metadata": {
            "tags": []
          },
          "execution_count": 10
        }
      ]
    },
    {
      "cell_type": "markdown",
      "metadata": {
        "id": "f-7I2oNBb3Tq",
        "colab_type": "text"
      },
      "source": [
        "### **Using the CNN Architecture we could achieve MSE loss less than the mean random model (which always outputs mean of steering angles in training data for any given image) and significantly less loss compared to zero random model(which always outputs Zero steering angle for any given image) at epoch-4  on Validation-data. So, we can infer that our CNN architecture is training well enough to give decent predictions of steering angles. The best model is saved.**"
      ]
    },
    {
      "cell_type": "markdown",
      "metadata": {
        "id": "M4v9FI-3nyus",
        "colab_type": "text"
      },
      "source": [
        "## **THE DENSE ARCHITECTURE WITH TRANSFER LEARNING (WITH PRE-TRAINED RESNET-50)**"
      ]
    },
    {
      "cell_type": "code",
      "metadata": {
        "id": "A2Hg8v1LfJZy",
        "colab_type": "code",
        "colab": {}
      },
      "source": [
        "#ref:https://stackoverflow.com/questions/54323960/save-keras-model-at-specific-epochs\n",
        "class CustomSaver_tl(keras.callbacks.Callback):\n",
        "  def on_epoch_end(self, epoch, logs={}):\n",
        "    self.model.save(\"/content/drive/My Drive/My Summer Projects/Self_Driving_Car/saved_models/model_TL_{}.hd5\".format(epoch))"
      ],
      "execution_count": null,
      "outputs": []
    },
    {
      "cell_type": "code",
      "metadata": {
        "id": "SKf-aelTfZdu",
        "colab_type": "code",
        "colab": {
          "base_uri": "https://localhost:8080/",
          "height": 370
        },
        "outputId": "a5422385-6d9d-4187-8b5a-c69da4d9145b"
      },
      "source": [
        "saver_tl = CustomSaver_tl()\n",
        "resnet_50 = ResNet50(include_top=False, weights='imagenet',input_shape=(66,200,3))\n",
        "model_resnet50=Sequential()\n",
        "model_resnet50.add(resnet_50)\n",
        "top_model=Sequential()\n",
        "top_model.add(Flatten(input_shape=(3,7,2048)))\n",
        "top_model.add(Dense(128, activation='relu'))\n",
        "top_model.add(Dense(64, activation='relu'))\n",
        "top_model.add(Dense(32, activation='relu'))\n",
        "top_model.add(Dense(1, activation=tf.atan))\n",
        "model_resnet50.add(top_model)\n",
        "for layer in model_resnet50.layers[0].layers[:174]:\n",
        "    layer.trainable=False\n",
        "model_resnet50.compile(loss = keras.losses.mean_squared_error,optimizer = keras.optimizers.Adam(lr=0.001))\n",
        "values_resnet50=model_resnet50.fit(x_train,y_train,batch_size=100,epochs=10,validation_data=(x_cv,y_cv),callbacks=[saver_tl])"
      ],
      "execution_count": null,
      "outputs": [
        {
          "output_type": "stream",
          "text": [
            "Train on 9000 samples, validate on 500 samples\n",
            "Epoch 1/10\n",
            "9000/9000 [==============================] - 587s 65ms/step - loss: 0.5406 - val_loss: 0.0385\n",
            "Epoch 2/10\n",
            "9000/9000 [==============================] - 584s 65ms/step - loss: 0.2628 - val_loss: 1.4290\n",
            "Epoch 3/10\n",
            "9000/9000 [==============================] - 583s 65ms/step - loss: 0.2445 - val_loss: 2.4729\n",
            "Epoch 4/10\n",
            "9000/9000 [==============================] - 581s 65ms/step - loss: 0.2342 - val_loss: 0.0958\n",
            "Epoch 5/10\n",
            "9000/9000 [==============================] - 582s 65ms/step - loss: 0.2312 - val_loss: 0.0963\n",
            "Epoch 6/10\n",
            "9000/9000 [==============================] - 583s 65ms/step - loss: 0.2275 - val_loss: 1.7125\n",
            "Epoch 7/10\n",
            "9000/9000 [==============================] - 583s 65ms/step - loss: 0.2255 - val_loss: 0.4277\n",
            "Epoch 8/10\n",
            "9000/9000 [==============================] - 583s 65ms/step - loss: 0.2251 - val_loss: 0.3334\n",
            "Epoch 9/10\n",
            "9000/9000 [==============================] - 582s 65ms/step - loss: 0.2252 - val_loss: 0.1972\n",
            "Epoch 10/10\n",
            "9000/9000 [==============================] - 578s 64ms/step - loss: 0.2242 - val_loss: 0.1245\n"
          ],
          "name": "stdout"
        }
      ]
    },
    {
      "cell_type": "markdown",
      "metadata": {
        "id": "Le_bCKLx1rmb",
        "colab_type": "text"
      },
      "source": [
        "### **Using the technique of Transfer Learning we could further reduce the MSE loss to 0.0385 (obtained at epoch-1 and model is saved) from 0.0466 which was obtained by just using CNN architecture.**"
      ]
    },
    {
      "cell_type": "markdown",
      "metadata": {
        "id": "vwQtAhqKG2A3",
        "colab_type": "text"
      },
      "source": [
        "## **FINAL TEST LOSS RESULTS**"
      ]
    },
    {
      "cell_type": "markdown",
      "metadata": {
        "id": "is2trWgFK_tC",
        "colab_type": "text"
      },
      "source": [
        "#### **TEST LOSS FOR A MEAN RANDOM MODEL**"
      ]
    },
    {
      "cell_type": "code",
      "metadata": {
        "id": "NdWhR5VFH-ID",
        "colab_type": "code",
        "colab": {
          "base_uri": "https://localhost:8080/",
          "height": 34
        },
        "outputId": "39cee9b7-90d9-4f6c-9211-031469ee74ce"
      },
      "source": [
        "train_mean = np.mean(y_train)\n",
        "preds_mean = []\n",
        "for i in range(len(x_test)):\n",
        "  preds_mean.append(train_mean)\n",
        "print(\"Test loss when every predicted angle is mean of training data angles::\",mean_squared_error(y_test,preds_mean))"
      ],
      "execution_count": null,
      "outputs": [
        {
          "output_type": "stream",
          "text": [
            "Test loss when every predicted angle is mean of training data angles:: 0.08559424278480952\n"
          ],
          "name": "stdout"
        }
      ]
    },
    {
      "cell_type": "markdown",
      "metadata": {
        "id": "0CKZ6s_1LH3m",
        "colab_type": "text"
      },
      "source": [
        "#### **TEST LOSS WHEN USED MODEL BUILT USING TRANSFER LEARNING**"
      ]
    },
    {
      "cell_type": "code",
      "metadata": {
        "id": "phQ4UiGlHqFs",
        "colab_type": "code",
        "colab": {
          "base_uri": "https://localhost:8080/",
          "height": 34
        },
        "outputId": "8ae199df-6342-4e70-c894-e0d4fe202aa6"
      },
      "source": [
        "pred_TL = model_resnet50.predict(x_test)\n",
        "print(\"Test loss using the model built using Transfer-Learning::\",mean_squared_error(y_test,pred_TL))"
      ],
      "execution_count": null,
      "outputs": [
        {
          "output_type": "stream",
          "text": [
            "Test loss using the model built using Transfer-Learning:: 0.05893282481686549\n"
          ],
          "name": "stdout"
        }
      ]
    },
    {
      "cell_type": "markdown",
      "metadata": {
        "id": "0QlG49I6MoLB",
        "colab_type": "text"
      },
      "source": [
        "## **REFERENCES**\n",
        "1. Bojarski, M., Del Testa, D., Dworakowski, D., Firner, B., Flepp, B., Goyal, P., ... & Zhang, X. (2016). End to end learning for self-driving cars. arXiv preprint arXiv:1604.07316.\n",
        "\n",
        "2. Data-set Source: https://github.com/SullyChen/driving-datasets"
      ]
    }
  ]
}